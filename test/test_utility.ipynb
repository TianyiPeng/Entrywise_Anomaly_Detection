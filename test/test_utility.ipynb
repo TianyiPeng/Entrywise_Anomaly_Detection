{
 "cells": [
  {
   "cell_type": "code",
   "execution_count": 109,
   "metadata": {},
   "outputs": [],
   "source": [
    "import sys\n",
    "sys.path.append('../.')\n",
    "from algorithms import utility\n",
    "from importlib import reload\n",
    "import numpy as np"
   ]
  },
  {
   "cell_type": "code",
   "execution_count": 86,
   "metadata": {},
   "outputs": [],
   "source": [
    "reload(utility)\n",
    "\n",
    "def test_truncated_SVD(n1, n2):\n",
    "    M = np.random.rand(n1, n2)\n",
    "    \n",
    "    u, s, vh = np.linalg.svd(M, full_matrices=False)\n",
    "\n",
    "    u1, s1, vh1 = utility.svd_fast(M)\n",
    "    assert np.linalg.norm(u@u.T-u1@u1.T) <= 1e-5 * np.linalg.norm(u@u.T)\n",
    "    assert np.linalg.norm(s-s1) <= 1e-5 * np.linalg.norm(s)\n",
    "    assert np.linalg.norm(vh@vh.T-vh1@vh1.T) <= 1e-5 * np.linalg.norm(vh@vh.T)\n",
    "\n",
    "\n",
    "\n",
    "test_truncated_SVD(100, 200)\n",
    "test_truncated_SVD(200, 100)\n",
    "test_truncated_SVD(100, 500)\n",
    "test_truncated_SVD(500, 100)"
   ]
  },
  {
   "cell_type": "code",
   "execution_count": 116,
   "metadata": {},
   "outputs": [
    {
     "name": "stdout",
     "output_type": "stream",
     "text": [
      "12.6 ms ± 308 µs per loop (mean ± std. dev. of 7 runs, 100 loops each)\n",
      "7.47 ms ± 66.1 µs per loop (mean ± std. dev. of 7 runs, 100 loops each)\n"
     ]
    }
   ],
   "source": [
    "import timeit\n",
    "reload(utility)\n",
    "n1 = 1000\n",
    "n2 = 200\n",
    "M = np.random.rand(n1, n2)\n",
    "\n",
    "%timeit u, s, vh = np.linalg.svd(M, full_matrices=False)\n",
    "%timeit utility.svd_fast(M)"
   ]
  },
  {
   "cell_type": "code",
   "execution_count": null,
   "metadata": {},
   "outputs": [],
   "source": []
  }
 ],
 "metadata": {
  "kernelspec": {
   "display_name": "base",
   "language": "python",
   "name": "python3"
  },
  "language_info": {
   "codemirror_mode": {
    "name": "ipython",
    "version": 3
   },
   "file_extension": ".py",
   "mimetype": "text/x-python",
   "name": "python",
   "nbconvert_exporter": "python",
   "pygments_lexer": "ipython3",
   "version": "3.10.9"
  },
  "orig_nbformat": 4
 },
 "nbformat": 4,
 "nbformat_minor": 2
}
