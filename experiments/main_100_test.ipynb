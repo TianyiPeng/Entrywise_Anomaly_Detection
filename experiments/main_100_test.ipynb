{
 "cells": [
  {
   "cell_type": "code",
   "execution_count": 1,
   "metadata": {},
   "outputs": [],
   "source": [
    "import numpy as np\n",
    "import scipy as sp\n",
    "import scipy.linalg\n",
    "import scipy.stats\n",
    "import seaborn as sns\n",
    "import matplotlib.pyplot as plt\n",
    "import matplotlib\n",
    "from sklearn.metrics import r2_score\n",
    "import pickle\n",
    "import time\n",
    "from scipy.optimize import fsolve\n",
    "from scipy.optimize import least_squares\n",
    "from scipy.optimize import minimize\n",
    "from scipy import sparse\n",
    "import os.path\n",
    "from scipy.interpolate import splrep, splev\n",
    "from importlib import reload\n",
    "import pandas as pd"
   ]
  },
  {
   "cell_type": "code",
   "execution_count": 3,
   "metadata": {},
   "outputs": [],
   "source": [
    "import sys\n",
    "sys.path.append('../.')\n",
    "from data import input as input\n",
    "from algorithms import algo as algo\n",
    "from algorithms import utility as utility \n",
    "from model import anomaly as anomaly\n",
    "from algorithms import robust_pca as robust_pca\n",
    "from tqdm import tqdm"
   ]
  },
  {
   "cell_type": "code",
   "execution_count": 29,
   "metadata": {},
   "outputs": [
    {
     "name": "stderr",
     "output_type": "stream",
     "text": [
      "  1%|          | 1/100 [00:01<02:05,  1.27s/it]"
     ]
    },
    {
     "name": "stdout",
     "output_type": "stream",
     "text": [
      "{'c_opt': 0.05449461405418702, 'c_EW': 0.07200582519253833, 'frobenious_norm_EW': 244.08877634224206, 'max_norm_EW': 25.559035784203274, 'c_DRMF': 0.45989252618511034, 'frobenious_norm_DRMF': 250.47937482887838, 'max_norm_DRMF': 33.15314993649032, 'c_stable_PCP': 0.5804028067575869, 'frobenious_norm_stable_PCP': 358.728904659007, 'max_norm_stable_PCP': 30.428378751084256, 'c_RMC': 0.5804028067575869, 'frobenious_norm_RMC': 358.728904659007, 'max_norm_RMC': 30.428378751084256}\n"
     ]
    },
    {
     "name": "stderr",
     "output_type": "stream",
     "text": [
      "  2%|▏         | 2/100 [00:13<12:28,  7.64s/it]"
     ]
    },
    {
     "name": "stdout",
     "output_type": "stream",
     "text": [
      "{'c_opt': 0.3051144503213981, 'c_EW': 0.3297892576012921, 'frobenious_norm_EW': 167.8358328858621, 'max_norm_EW': 22.060631681994977, 'c_DRMF': 0.6436971323773722, 'frobenious_norm_DRMF': 273.6653155087556, 'max_norm_DRMF': 36.091275906588535, 'c_stable_PCP': 0.5661977814623229, 'frobenious_norm_stable_PCP': 197.50018373074397, 'max_norm_stable_PCP': 27.743972348419543, 'c_RMC': 0.5661977814623229, 'frobenious_norm_RMC': 197.50018373074397, 'max_norm_RMC': 27.743972348419543}\n"
     ]
    },
    {
     "name": "stderr",
     "output_type": "stream",
     "text": [
      "  3%|▎         | 3/100 [00:20<11:43,  7.25s/it]"
     ]
    },
    {
     "name": "stdout",
     "output_type": "stream",
     "text": [
      "{'c_opt': 0.28039473469250575, 'c_EW': 0.3413399494257404, 'frobenious_norm_EW': 208.70968927521614, 'max_norm_EW': 15.264151630949463, 'c_DRMF': 1.924607842271519, 'frobenious_norm_DRMF': 469.1979106359194, 'max_norm_DRMF': 40.51815775135956, 'c_stable_PCP': 1.536716657996843, 'frobenious_norm_stable_PCP': 354.254369838026, 'max_norm_stable_PCP': 29.267164938345353, 'c_RMC': 1.536716657996843, 'frobenious_norm_RMC': 354.254369838026, 'max_norm_RMC': 29.267164938345353}\n"
     ]
    },
    {
     "name": "stderr",
     "output_type": "stream",
     "text": [
      "  4%|▍         | 4/100 [00:23<09:06,  5.69s/it]"
     ]
    },
    {
     "name": "stdout",
     "output_type": "stream",
     "text": [
      "{'c_opt': 0.46570410679918756, 'c_EW': 0.5228577148316825, 'frobenious_norm_EW': 194.05621082569343, 'max_norm_EW': 33.26777168115101, 'c_DRMF': 1.2304926895951729, 'frobenious_norm_DRMF': 204.6072160773696, 'max_norm_DRMF': 28.63464439976004, 'c_stable_PCP': 1.3074644330609202, 'frobenious_norm_stable_PCP': 446.5502522857263, 'max_norm_stable_PCP': 113.88873059422913, 'c_RMC': 1.3074644330609202, 'frobenious_norm_RMC': 446.5502522857263, 'max_norm_RMC': 113.88873059422913}\n"
     ]
    },
    {
     "name": "stderr",
     "output_type": "stream",
     "text": [
      "  5%|▌         | 5/100 [00:48<20:12, 12.76s/it]"
     ]
    },
    {
     "name": "stdout",
     "output_type": "stream",
     "text": [
      "{'c_opt': 0.7528489464687703, 'c_EW': 0.7811785866840092, 'frobenious_norm_EW': 70.33432850843619, 'max_norm_EW': 5.768152648377801, 'c_DRMF': 1.739286587079146, 'frobenious_norm_DRMF': 136.3174483383522, 'max_norm_DRMF': 13.023164488707483, 'c_stable_PCP': 1.6091911486131296, 'frobenious_norm_stable_PCP': 107.58128779543591, 'max_norm_stable_PCP': 7.4359896911694525, 'c_RMC': 2.0309742715464782, 'frobenious_norm_RMC': 98.29459646450745, 'max_norm_RMC': 5.803468656377712}\n"
     ]
    },
    {
     "name": "stderr",
     "output_type": "stream",
     "text": [
      "  6%|▌         | 6/100 [00:54<16:06, 10.28s/it]"
     ]
    },
    {
     "name": "stdout",
     "output_type": "stream",
     "text": [
      "{'c_opt': 0.4377468403663896, 'c_EW': 0.4739590205352314, 'frobenious_norm_EW': 192.34019945864347, 'max_norm_EW': 26.510486917954207, 'c_DRMF': 1.1154018275173, 'frobenious_norm_DRMF': 216.87486944317567, 'max_norm_DRMF': 40.91811542894717, 'c_stable_PCP': 1.199011948988635, 'frobenious_norm_stable_PCP': 423.1934568388773, 'max_norm_stable_PCP': 63.99248802312788, 'c_RMC': 1.199011948988635, 'frobenious_norm_RMC': 423.1934568388773, 'max_norm_RMC': 63.99248802312788}\n"
     ]
    },
    {
     "name": "stderr",
     "output_type": "stream",
     "text": [
      "  7%|▋         | 7/100 [01:03<15:30, 10.00s/it]"
     ]
    },
    {
     "name": "stdout",
     "output_type": "stream",
     "text": [
      "{'c_opt': 0.11204980781821454, 'c_EW': 0.1155494938457724, 'frobenious_norm_EW': 105.4164738290539, 'max_norm_EW': 9.159291020124654, 'c_DRMF': 0.21382712178284263, 'frobenious_norm_DRMF': 122.75329744372083, 'max_norm_DRMF': 12.685001656134673, 'c_stable_PCP': 0.564175977133252, 'frobenious_norm_stable_PCP': 164.60942944111096, 'max_norm_stable_PCP': 20.491489778246514, 'c_RMC': 0.564175977133252, 'frobenious_norm_RMC': 164.60942944111096, 'max_norm_RMC': 20.491489778246514}\n"
     ]
    },
    {
     "name": "stderr",
     "output_type": "stream",
     "text": [
      "  8%|▊         | 8/100 [01:07<12:17,  8.01s/it]"
     ]
    },
    {
     "name": "stdout",
     "output_type": "stream",
     "text": [
      "{'c_opt': 0.6971742285416518, 'c_EW': 0.8343928546898622, 'frobenious_norm_EW': 298.22936788673354, 'max_norm_EW': 61.4789965456453, 'c_DRMF': 1.7262104071986757, 'frobenious_norm_DRMF': 491.6979895080366, 'max_norm_DRMF': 106.00953791150226, 'c_stable_PCP': 1.7437218176639582, 'frobenious_norm_stable_PCP': 658.9653826224993, 'max_norm_stable_PCP': 103.34274821471902, 'c_RMC': 1.7437218176639582, 'frobenious_norm_RMC': 658.9653826224993, 'max_norm_RMC': 103.34274821471902}\n"
     ]
    },
    {
     "name": "stderr",
     "output_type": "stream",
     "text": [
      "  9%|▉         | 9/100 [01:24<16:21, 10.78s/it]"
     ]
    },
    {
     "name": "stdout",
     "output_type": "stream",
     "text": [
      "{'c_opt': 0.5058641015267739, 'c_EW': 0.5543217965938275, 'frobenious_norm_EW': 145.41337801537787, 'max_norm_EW': 14.170498975676018, 'c_DRMF': 0.9672675665982038, 'frobenious_norm_DRMF': 193.66895460967953, 'max_norm_DRMF': 41.5686944152076, 'c_stable_PCP': 0.9723645556235747, 'frobenious_norm_stable_PCP': 176.2782475144565, 'max_norm_stable_PCP': 15.269326777600838, 'c_RMC': 0.9723645556235747, 'frobenious_norm_RMC': 176.2782475144565, 'max_norm_RMC': 15.269326777600838}\n"
     ]
    },
    {
     "name": "stderr",
     "output_type": "stream",
     "text": [
      " 10%|█         | 10/100 [01:25<11:48,  7.87s/it]"
     ]
    },
    {
     "name": "stdout",
     "output_type": "stream",
     "text": [
      "{'c_opt': 0.09319077072619945, 'c_EW': 0.10618331864666791, 'frobenious_norm_EW': 151.34363628745172, 'max_norm_EW': 14.224360610082563, 'c_DRMF': 0.25952566341500816, 'frobenious_norm_DRMF': 128.26882249461562, 'max_norm_DRMF': 9.95361825779861, 'c_stable_PCP': 0.5335932571769417, 'frobenious_norm_stable_PCP': 290.1023689304626, 'max_norm_stable_PCP': 26.17525782172865, 'c_RMC': 0.5335932571769417, 'frobenious_norm_RMC': 290.1023689304626, 'max_norm_RMC': 26.17525782172865}\n"
     ]
    },
    {
     "name": "stderr",
     "output_type": "stream",
     "text": [
      " 11%|█         | 11/100 [02:07<27:06, 18.27s/it]"
     ]
    },
    {
     "name": "stdout",
     "output_type": "stream",
     "text": [
      "{'c_opt': 0.7569588110115567, 'c_EW': 0.7696101697066944, 'frobenious_norm_EW': 59.326990608545835, 'max_norm_EW': 5.276978144169815, 'c_DRMF': 1.4206454973152403, 'frobenious_norm_DRMF': 118.69459436923727, 'max_norm_DRMF': 10.004369526373843, 'c_stable_PCP': 1.5659544636653413, 'frobenious_norm_stable_PCP': 79.13407929966593, 'max_norm_stable_PCP': 6.510080978526171, 'c_RMC': 2.1014507803695537, 'frobenious_norm_RMC': 71.87904037686394, 'max_norm_RMC': 6.0888669038421925}\n"
     ]
    },
    {
     "name": "stderr",
     "output_type": "stream",
     "text": [
      " 12%|█▏        | 12/100 [02:09<19:44, 13.46s/it]"
     ]
    },
    {
     "name": "stdout",
     "output_type": "stream",
     "text": [
      "{'c_opt': 0.697819768426467, 'c_EW': 0.8566144451955648, 'frobenious_norm_EW': 314.0893390497198, 'max_norm_EW': 38.842483741533314, 'c_DRMF': 1.4237417710569984, 'frobenious_norm_DRMF': 337.9685796970683, 'max_norm_DRMF': 52.52498661898358, 'c_stable_PCP': 1.275369268033107, 'frobenious_norm_stable_PCP': 399.223812600872, 'max_norm_stable_PCP': 54.258735727962296, 'c_RMC': 1.275369268033107, 'frobenious_norm_RMC': 399.223812600872, 'max_norm_RMC': 54.258735727962296}\n"
     ]
    },
    {
     "name": "stderr",
     "output_type": "stream",
     "text": [
      " 13%|█▎        | 13/100 [02:16<16:16, 11.22s/it]"
     ]
    },
    {
     "name": "stdout",
     "output_type": "stream",
     "text": [
      "{'c_opt': 0.8457172278161902, 'c_EW': 0.9911589378507816, 'frobenious_norm_EW': 234.83028628076602, 'max_norm_EW': 28.425698079371088, 'c_DRMF': 1.6811788984715936, 'frobenious_norm_DRMF': 373.4142830884284, 'max_norm_DRMF': 64.07972399838062, 'c_stable_PCP': 1.4138958670204484, 'frobenious_norm_stable_PCP': 293.25055054844773, 'max_norm_stable_PCP': 32.851225928527604, 'c_RMC': 1.4138958670204484, 'frobenious_norm_RMC': 293.25055054844773, 'max_norm_RMC': 32.851225928527604}\n"
     ]
    },
    {
     "name": "stderr",
     "output_type": "stream",
     "text": [
      " 14%|█▍        | 14/100 [02:17<11:56,  8.33s/it]"
     ]
    },
    {
     "name": "stdout",
     "output_type": "stream",
     "text": [
      "{'c_opt': 0.22924975822804367, 'c_EW': 0.2544920439883637, 'frobenious_norm_EW': 217.1091344529688, 'max_norm_EW': 16.662991187400337, 'c_DRMF': 0.4819072014189251, 'frobenious_norm_DRMF': 189.05264248038327, 'max_norm_DRMF': 22.284284052306607, 'c_stable_PCP': 0.5250390047300453, 'frobenious_norm_stable_PCP': 344.7990078014691, 'max_norm_stable_PCP': 29.18810041427038, 'c_RMC': 0.5250390047300453, 'frobenious_norm_RMC': 344.7990078014691, 'max_norm_RMC': 29.18810041427038}\n"
     ]
    },
    {
     "name": "stderr",
     "output_type": "stream",
     "text": [
      " 15%|█▌        | 15/100 [02:32<14:35, 10.30s/it]"
     ]
    },
    {
     "name": "stdout",
     "output_type": "stream",
     "text": [
      "{'c_opt': 0.45632840691438736, 'c_EW': 0.5130221067088545, 'frobenious_norm_EW': 132.8150074997634, 'max_norm_EW': 15.621775202560656, 'c_DRMF': 1.6259538100374267, 'frobenious_norm_DRMF': 276.74107605307313, 'max_norm_DRMF': 25.05631350606146, 'c_stable_PCP': 1.4899659603491284, 'frobenious_norm_stable_PCP': 178.90496758521616, 'max_norm_stable_PCP': 17.755230886015678, 'c_RMC': 1.4899659603491284, 'frobenious_norm_RMC': 178.90496758521616, 'max_norm_RMC': 17.755230886015678}\n"
     ]
    },
    {
     "name": "stderr",
     "output_type": "stream",
     "text": [
      " 16%|█▌        | 16/100 [03:29<34:05, 24.35s/it]"
     ]
    },
    {
     "name": "stdout",
     "output_type": "stream",
     "text": [
      "{'c_opt': 0.547733640400083, 'c_EW': 0.5815687160326254, 'frobenious_norm_EW': 86.60790135983885, 'max_norm_EW': 11.690557177410566, 'c_DRMF': 1.3286027806505576, 'frobenious_norm_DRMF': 173.62082538047054, 'max_norm_DRMF': 18.03833307236732, 'c_stable_PCP': 1.353010472999472, 'frobenious_norm_stable_PCP': 118.33970057152871, 'max_norm_stable_PCP': 14.530863883549541, 'c_RMC': 2.2068407008788133, 'frobenious_norm_RMC': 104.16521284492737, 'max_norm_RMC': 13.266156643720104}\n"
     ]
    },
    {
     "name": "stderr",
     "output_type": "stream",
     "text": [
      " 17%|█▋        | 17/100 [05:10<1:05:41, 47.48s/it]"
     ]
    },
    {
     "name": "stdout",
     "output_type": "stream",
     "text": [
      "{'c_opt': 0.4509129018922626, 'c_EW': 0.46571702857510905, 'frobenious_norm_EW': 87.8637695255171, 'max_norm_EW': 13.240062491972386, 'c_DRMF': 0.810042853983649, 'frobenious_norm_DRMF': 97.92403981735974, 'max_norm_DRMF': 7.875592645303685, 'c_stable_PCP': 1.0292101162293976, 'frobenious_norm_stable_PCP': 133.64664516391866, 'max_norm_stable_PCP': 20.628199372741193, 'c_RMC': 1.1616684010754403, 'frobenious_norm_RMC': 132.14690962404245, 'max_norm_RMC': 14.140143406514357}\n"
     ]
    },
    {
     "name": "stderr",
     "output_type": "stream",
     "text": [
      " 18%|█▊        | 18/100 [05:19<48:54, 35.78s/it]  "
     ]
    },
    {
     "name": "stdout",
     "output_type": "stream",
     "text": [
      "{'c_opt': 0.29125086032830305, 'c_EW': 0.3276440040645165, 'frobenious_norm_EW': 191.61944308273493, 'max_norm_EW': 17.77939817365438, 'c_DRMF': 0.8501413864189898, 'frobenious_norm_DRMF': 375.597867896426, 'max_norm_DRMF': 41.357696267403256, 'c_stable_PCP': 0.671966772421467, 'frobenious_norm_stable_PCP': 245.60172998083112, 'max_norm_stable_PCP': 22.04343579539464, 'c_RMC': 0.671966772421467, 'frobenious_norm_RMC': 245.60172998083112, 'max_norm_RMC': 22.04343579539464}\n"
     ]
    },
    {
     "name": "stderr",
     "output_type": "stream",
     "text": [
      " 19%|█▉        | 19/100 [05:21<34:50, 25.81s/it]"
     ]
    },
    {
     "name": "stdout",
     "output_type": "stream",
     "text": [
      "{'c_opt': 0.6242955094134334, 'c_EW': 0.7170886060387535, 'frobenious_norm_EW': 249.3214456940759, 'max_norm_EW': 22.057965509363964, 'c_DRMF': 1.4523678588124265, 'frobenious_norm_DRMF': 358.9947240432355, 'max_norm_DRMF': 44.08415794448089, 'c_stable_PCP': 1.2915065451097698, 'frobenious_norm_stable_PCP': 383.82798596365905, 'max_norm_stable_PCP': 47.39765731527963, 'c_RMC': 1.2915065451097698, 'frobenious_norm_RMC': 383.82798596365905, 'max_norm_RMC': 47.39765731527963}\n"
     ]
    },
    {
     "name": "stderr",
     "output_type": "stream",
     "text": [
      " 20%|██        | 20/100 [05:34<28:55, 21.70s/it]"
     ]
    },
    {
     "name": "stdout",
     "output_type": "stream",
     "text": [
      "{'c_opt': 0.36644915460101685, 'c_EW': 0.45819489129566315, 'frobenious_norm_EW': 275.8114961030457, 'max_norm_EW': 31.213797459734607, 'c_DRMF': 1.9227576488018823, 'frobenious_norm_DRMF': 425.01126846244875, 'max_norm_DRMF': 49.92588074260884, 'c_stable_PCP': 1.7835557084356286, 'frobenious_norm_stable_PCP': 494.00258170976326, 'max_norm_stable_PCP': 54.95504991730527, 'c_RMC': 1.7835557084356286, 'frobenious_norm_RMC': 494.00258170976326, 'max_norm_RMC': 54.95504991730527}\n"
     ]
    },
    {
     "name": "stderr",
     "output_type": "stream",
     "text": [
      " 21%|██        | 21/100 [05:44<24:00, 18.23s/it]"
     ]
    },
    {
     "name": "stdout",
     "output_type": "stream",
     "text": [
      "{'c_opt': 0.12310827423975093, 'c_EW': 0.1489038794945485, 'frobenious_norm_EW': 203.12964622917985, 'max_norm_EW': 18.469162912166624, 'c_DRMF': 1.3486970564464513, 'frobenious_norm_DRMF': 434.457563192691, 'max_norm_DRMF': 32.84461993319337, 'c_stable_PCP': 1.0836167928267415, 'frobenious_norm_stable_PCP': 294.8424951212221, 'max_norm_stable_PCP': 24.93710079493669, 'c_RMC': 1.0836167928267415, 'frobenious_norm_RMC': 294.8424951212221, 'max_norm_RMC': 24.93710079493669}\n"
     ]
    },
    {
     "name": "stderr",
     "output_type": "stream",
     "text": [
      " 22%|██▏       | 22/100 [05:47<17:57, 13.81s/it]"
     ]
    },
    {
     "name": "stdout",
     "output_type": "stream",
     "text": [
      "{'c_opt': 0.3560029087117474, 'c_EW': 0.3774303031085166, 'frobenious_norm_EW': 133.90855062468958, 'max_norm_EW': 10.412999836701609, 'c_DRMF': 0.7502920497392835, 'frobenious_norm_DRMF': 153.5674475466342, 'max_norm_DRMF': 24.307111700493465, 'c_stable_PCP': 1.0738646578667335, 'frobenious_norm_stable_PCP': 386.16049844427107, 'max_norm_stable_PCP': 47.01820427564682, 'c_RMC': 1.0738646578667335, 'frobenious_norm_RMC': 386.16049844427107, 'max_norm_RMC': 47.01820427564682}\n"
     ]
    },
    {
     "name": "stderr",
     "output_type": "stream",
     "text": [
      " 23%|██▎       | 23/100 [06:36<31:16, 24.36s/it]"
     ]
    },
    {
     "name": "stdout",
     "output_type": "stream",
     "text": [
      "{'c_opt': 0.603782977483772, 'c_EW': 0.6483646157097199, 'frobenious_norm_EW': 136.3380149780838, 'max_norm_EW': 10.352658256880314, 'c_DRMF': 1.9757491829383007, 'frobenious_norm_DRMF': 318.63560671595866, 'max_norm_DRMF': 21.712219703608973, 'c_stable_PCP': 1.513290228539569, 'frobenious_norm_stable_PCP': 205.30933478121048, 'max_norm_stable_PCP': 16.143751922390624, 'c_RMC': 1.719397486955924, 'frobenious_norm_RMC': 1727.066558875613, 'max_norm_RMC': 232.8567329495345}\n"
     ]
    },
    {
     "name": "stderr",
     "output_type": "stream",
     "text": [
      " 24%|██▍       | 24/100 [06:50<26:58, 21.30s/it]"
     ]
    },
    {
     "name": "stdout",
     "output_type": "stream",
     "text": [
      "{'c_opt': 0.5707238698256829, 'c_EW': 0.605468708470633, 'frobenious_norm_EW': 83.7723114807454, 'max_norm_EW': 7.299802112777735, 'c_DRMF': 1.340394564187824, 'frobenious_norm_DRMF': 102.04545324414272, 'max_norm_DRMF': 12.268810803163367, 'c_stable_PCP': 1.4953479572376653, 'frobenious_norm_stable_PCP': 141.9616716444356, 'max_norm_stable_PCP': 11.204286299399836, 'c_RMC': 1.6096333359006607, 'frobenious_norm_RMC': 1814.0432141496872, 'max_norm_RMC': 190.6644313678887}\n"
     ]
    },
    {
     "name": "stderr",
     "output_type": "stream",
     "text": [
      " 25%|██▌       | 25/100 [06:56<20:46, 16.61s/it]"
     ]
    },
    {
     "name": "stdout",
     "output_type": "stream",
     "text": [
      "{'c_opt': 0.21415135637528068, 'c_EW': 0.22902684115810892, 'frobenious_norm_EW': 118.89601653104269, 'max_norm_EW': 11.581637416929158, 'c_DRMF': 0.4491802466286863, 'frobenious_norm_DRMF': 157.55297698583976, 'max_norm_DRMF': 14.481661436778584, 'c_stable_PCP': 0.530290930575274, 'frobenious_norm_stable_PCP': 153.68060732766958, 'max_norm_stable_PCP': 19.134317524981576, 'c_RMC': 0.530290930575274, 'frobenious_norm_RMC': 153.68060732766958, 'max_norm_RMC': 19.134317524981576}\n"
     ]
    },
    {
     "name": "stderr",
     "output_type": "stream",
     "text": [
      " 26%|██▌       | 26/100 [11:08<1:47:28, 87.14s/it]"
     ]
    },
    {
     "name": "stdout",
     "output_type": "stream",
     "text": [
      "{'c_opt': 0.6065736526507736, 'c_EW': 0.6360357460645468, 'frobenious_norm_EW': 234.3065588715242, 'max_norm_EW': 40.93148051664576, 'c_DRMF': 1.223421854070418, 'frobenious_norm_DRMF': 420.297609822191, 'max_norm_DRMF': 76.43945230806867, 'c_stable_PCP': 0.9564692043494455, 'frobenious_norm_stable_PCP': 819.9017235422166, 'max_norm_stable_PCP': 278.2758341335145, 'c_RMC': 0.9564692043494455, 'frobenious_norm_RMC': 819.9017235422166, 'max_norm_RMC': 278.2758341335145}\n"
     ]
    },
    {
     "name": "stderr",
     "output_type": "stream",
     "text": [
      " 27%|██▋       | 27/100 [11:50<1:29:38, 73.68s/it]"
     ]
    },
    {
     "name": "stdout",
     "output_type": "stream",
     "text": [
      "{'c_opt': 0.6899176394890738, 'c_EW': 0.70312038123438, 'frobenious_norm_EW': 55.34745483787035, 'max_norm_EW': 7.927070545514243, 'c_DRMF': 1.3334726905490757, 'frobenious_norm_DRMF': 87.08965334657951, 'max_norm_DRMF': 10.781498990552754, 'c_stable_PCP': 1.5473854714422999, 'frobenious_norm_stable_PCP': 78.96706426244069, 'max_norm_stable_PCP': 11.236641505658696, 'c_RMC': 2.0721466908276205, 'frobenious_norm_RMC': 75.3417626863877, 'max_norm_RMC': 9.182650555359832}\n"
     ]
    },
    {
     "name": "stderr",
     "output_type": "stream",
     "text": [
      " 28%|██▊       | 28/100 [12:57<1:26:01, 71.68s/it]"
     ]
    },
    {
     "name": "stdout",
     "output_type": "stream",
     "text": [
      "{'c_opt': 0.668092139915325, 'c_EW': 0.7354739850091657, 'frobenious_norm_EW': 129.71199914604523, 'max_norm_EW': 12.15925495587174, 'c_DRMF': 2.4215230126038283, 'frobenious_norm_DRMF': 258.85987665211576, 'max_norm_DRMF': 18.421639036924116, 'c_stable_PCP': 1.978215478569117, 'frobenious_norm_stable_PCP': 194.02763251310478, 'max_norm_stable_PCP': 14.735493679740353, 'c_RMC': 2.281239085583513, 'frobenious_norm_RMC': 1527.2046885990708, 'max_norm_RMC': 211.07029536681603}\n"
     ]
    },
    {
     "name": "stderr",
     "output_type": "stream",
     "text": [
      " 29%|██▉       | 29/100 [13:20<1:07:23, 56.95s/it]"
     ]
    },
    {
     "name": "stdout",
     "output_type": "stream",
     "text": [
      "{'c_opt': 0.7808364993987682, 'c_EW': 0.8391817055601296, 'frobenious_norm_EW': 138.23585682975423, 'max_norm_EW': 12.58974342555662, 'c_DRMF': 1.4849885841483832, 'frobenious_norm_DRMF': 208.50985207019565, 'max_norm_DRMF': 24.912436271260564, 'c_stable_PCP': 1.2837251183598875, 'frobenious_norm_stable_PCP': 181.0546645032436, 'max_norm_stable_PCP': 15.447627222152768, 'c_RMC': 1.2837251183598875, 'frobenious_norm_RMC': 181.0546645032436, 'max_norm_RMC': 15.447627222152768}\n"
     ]
    },
    {
     "name": "stderr",
     "output_type": "stream",
     "text": [
      " 30%|███       | 30/100 [13:23<47:34, 40.78s/it]  "
     ]
    },
    {
     "name": "stdout",
     "output_type": "stream",
     "text": [
      "{'c_opt': 0.14712182716477504, 'c_EW': 0.15238020032871713, 'frobenious_norm_EW': 130.39774689343966, 'max_norm_EW': 12.077349940712628, 'c_DRMF': 0.27404651039128297, 'frobenious_norm_DRMF': 116.62392327890208, 'max_norm_DRMF': 9.482788254611066, 'c_stable_PCP': 0.49209178080219995, 'frobenious_norm_stable_PCP': 180.8169239606971, 'max_norm_stable_PCP': 17.626737508183936, 'c_RMC': 0.49209178080219995, 'frobenious_norm_RMC': 180.8169239606971, 'max_norm_RMC': 17.626737508183936}\n"
     ]
    },
    {
     "name": "stderr",
     "output_type": "stream",
     "text": [
      " 31%|███       | 31/100 [13:28<34:39, 30.13s/it]"
     ]
    },
    {
     "name": "stdout",
     "output_type": "stream",
     "text": [
      "{'c_opt': 0.44871120858816566, 'c_EW': 0.511250466828177, 'frobenious_norm_EW': 222.96063333106835, 'max_norm_EW': 31.992815788976284, 'c_DRMF': 1.2484483296743247, 'frobenious_norm_DRMF': 368.95660805796854, 'max_norm_DRMF': 40.283391944131594, 'c_stable_PCP': 1.0781535010521133, 'frobenious_norm_stable_PCP': 319.4560701517252, 'max_norm_stable_PCP': 33.64031350941569, 'c_RMC': 1.0781535010521133, 'frobenious_norm_RMC': 319.4560701517252, 'max_norm_RMC': 33.64031350941569}\n"
     ]
    },
    {
     "name": "stderr",
     "output_type": "stream",
     "text": [
      " 32%|███▏      | 32/100 [13:30<24:46, 21.86s/it]"
     ]
    },
    {
     "name": "stdout",
     "output_type": "stream",
     "text": [
      "{'c_opt': 0.4646152035865618, 'c_EW': 0.5392085158831441, 'frobenious_norm_EW': 260.4000225164347, 'max_norm_EW': 60.40588900624576, 'c_DRMF': 2.255486404777054, 'frobenious_norm_DRMF': 456.1369270610577, 'max_norm_DRMF': 90.52185617180817, 'c_stable_PCP': 2.2169980130414295, 'frobenious_norm_stable_PCP': 646.7777025546726, 'max_norm_stable_PCP': 134.0658684839425, 'c_RMC': 2.2169980130414295, 'frobenious_norm_RMC': 646.7777025546726, 'max_norm_RMC': 134.0658684839425}\n"
     ]
    },
    {
     "name": "stderr",
     "output_type": "stream",
     "text": [
      " 33%|███▎      | 33/100 [13:33<17:53, 16.02s/it]"
     ]
    },
    {
     "name": "stdout",
     "output_type": "stream",
     "text": [
      "{'c_opt': 0.30288518517610574, 'c_EW': 0.3050793921461926, 'frobenious_norm_EW': 58.452466483814554, 'max_norm_EW': 6.575123126786508, 'c_DRMF': 0.5656320546927206, 'frobenious_norm_DRMF': 63.37257740882911, 'max_norm_DRMF': 6.660599619617271, 'c_stable_PCP': 1.648410686810949, 'frobenious_norm_stable_PCP': 360.90654401161817, 'max_norm_stable_PCP': 25.83270610803231, 'c_RMC': 1.648410686810949, 'frobenious_norm_RMC': 360.90654401161817, 'max_norm_RMC': 25.83270610803231}\n"
     ]
    },
    {
     "name": "stderr",
     "output_type": "stream",
     "text": [
      " 34%|███▍      | 34/100 [13:37<13:42, 12.46s/it]"
     ]
    },
    {
     "name": "stdout",
     "output_type": "stream",
     "text": [
      "{'c_opt': 0.1486405679989192, 'c_EW': 0.14950832309088158, 'frobenious_norm_EW': 65.59128838288285, 'max_norm_EW': 15.090458554692859, 'c_DRMF': 0.29203508138115514, 'frobenious_norm_DRMF': 55.39889888266839, 'max_norm_DRMF': 10.655381487800199, 'c_stable_PCP': 1.3624516084191567, 'frobenious_norm_stable_PCP': 362.314730854038, 'max_norm_stable_PCP': 53.50987817998522, 'c_RMC': 1.3624516084191567, 'frobenious_norm_RMC': 362.314730854038, 'max_norm_RMC': 53.50987817998522}\n"
     ]
    },
    {
     "name": "stderr",
     "output_type": "stream",
     "text": [
      " 35%|███▌      | 35/100 [13:40<10:18,  9.52s/it]"
     ]
    },
    {
     "name": "stdout",
     "output_type": "stream",
     "text": [
      "{'c_opt': 0.7532963833111099, 'c_EW': 0.81735914966033, 'frobenious_norm_EW': 199.48400718906132, 'max_norm_EW': 20.581374611664614, 'c_DRMF': 1.4028036928784382, 'frobenious_norm_DRMF': 147.57930780247304, 'max_norm_DRMF': 14.816669494642824, 'c_stable_PCP': 1.2633783745582734, 'frobenious_norm_stable_PCP': 338.6677744766183, 'max_norm_stable_PCP': 56.751487278721825, 'c_RMC': 1.2633783745582734, 'frobenious_norm_RMC': 338.6677744766183, 'max_norm_RMC': 56.751487278721825}\n"
     ]
    },
    {
     "name": "stderr",
     "output_type": "stream",
     "text": [
      " 36%|███▌      | 36/100 [13:42<07:54,  7.42s/it]"
     ]
    },
    {
     "name": "stdout",
     "output_type": "stream",
     "text": [
      "{'c_opt': 1.0979127712780516, 'c_EW': 1.1099129003153876, 'frobenious_norm_EW': 58.01789140116518, 'max_norm_EW': 12.4203605262705, 'c_DRMF': 1.9665788083205011, 'frobenious_norm_DRMF': 69.64005087552071, 'max_norm_DRMF': 14.641432702344929, 'c_stable_PCP': 1.9889064180283618, 'frobenious_norm_stable_PCP': 232.8173493721324, 'max_norm_stable_PCP': 25.338062327819433, 'c_RMC': 1.9889064180283618, 'frobenious_norm_RMC': 232.8173493721324, 'max_norm_RMC': 25.338062327819433}\n"
     ]
    },
    {
     "name": "stderr",
     "output_type": "stream",
     "text": [
      " 37%|███▋      | 37/100 [13:45<06:15,  5.95s/it]"
     ]
    },
    {
     "name": "stdout",
     "output_type": "stream",
     "text": [
      "{'c_opt': 0.6307882083489152, 'c_EW': 0.6484001548873575, 'frobenious_norm_EW': 78.45047800669488, 'max_norm_EW': 12.714460579727234, 'c_DRMF': 1.1762744308770607, 'frobenious_norm_DRMF': 110.79757660641931, 'max_norm_DRMF': 16.04835669315392, 'c_stable_PCP': 2.129983854543949, 'frobenious_norm_stable_PCP': 314.28815841954366, 'max_norm_stable_PCP': 40.098984695061596, 'c_RMC': 2.129983854543949, 'frobenious_norm_RMC': 314.28815841954366, 'max_norm_RMC': 40.098984695061596}\n"
     ]
    },
    {
     "name": "stderr",
     "output_type": "stream",
     "text": [
      " 38%|███▊      | 38/100 [14:37<20:30, 19.84s/it]"
     ]
    },
    {
     "name": "stdout",
     "output_type": "stream",
     "text": [
      "{'c_opt': 0.8816655942366681, 'c_EW': 0.9487725083035518, 'frobenious_norm_EW': 133.53102734307467, 'max_norm_EW': 11.477999950035223, 'c_DRMF': 1.8393242000012924, 'frobenious_norm_DRMF': 281.73040176004946, 'max_norm_DRMF': 32.17626015033627, 'c_stable_PCP': 1.4060655529026997, 'frobenious_norm_stable_PCP': 169.66362682478191, 'max_norm_stable_PCP': 11.609188125372668, 'c_RMC': 1.6039597464203026, 'frobenious_norm_RMC': 1715.1844260158048, 'max_norm_RMC': 187.58804155878153}\n"
     ]
    },
    {
     "name": "stderr",
     "output_type": "stream",
     "text": [
      " 39%|███▉      | 39/100 [14:55<19:43, 19.41s/it]"
     ]
    },
    {
     "name": "stdout",
     "output_type": "stream",
     "text": [
      "{'c_opt': 0.09490671661735862, 'c_EW': 0.10730020792247043, 'frobenious_norm_EW': 161.15205637217255, 'max_norm_EW': 16.0438764429408, 'c_DRMF': 0.9167311626825263, 'frobenious_norm_DRMF': 327.37686125536914, 'max_norm_DRMF': 32.829446179690635, 'c_stable_PCP': 0.8004628140658109, 'frobenious_norm_stable_PCP': 215.95727308712955, 'max_norm_stable_PCP': 22.35978973419458, 'c_RMC': 0.8004628140658109, 'frobenious_norm_RMC': 215.95727308712955, 'max_norm_RMC': 22.35978973419458}\n"
     ]
    },
    {
     "name": "stderr",
     "output_type": "stream",
     "text": [
      " 40%|████      | 40/100 [15:44<28:10, 28.18s/it]"
     ]
    },
    {
     "name": "stdout",
     "output_type": "stream",
     "text": [
      "{'c_opt': 0.5569820503284393, 'c_EW': 0.6181123340093635, 'frobenious_norm_EW': 170.51596159856481, 'max_norm_EW': 17.258398275191976, 'c_DRMF': 1.762642543079767, 'frobenious_norm_DRMF': 359.6376832500224, 'max_norm_DRMF': 31.6944246105804, 'c_stable_PCP': 1.4506877643068696, 'frobenious_norm_stable_PCP': 212.79672638236178, 'max_norm_stable_PCP': 18.543081557704184, 'c_RMC': 1.4506877643068696, 'frobenious_norm_RMC': 212.79672638236178, 'max_norm_RMC': 18.543081557704184}\n"
     ]
    },
    {
     "name": "stderr",
     "output_type": "stream",
     "text": [
      " 41%|████      | 41/100 [15:52<21:36, 21.98s/it]"
     ]
    },
    {
     "name": "stdout",
     "output_type": "stream",
     "text": [
      "{'c_opt': 0.6555788880919794, 'c_EW': 0.8099174490393899, 'frobenious_norm_EW': 302.05004312349, 'max_norm_EW': 62.29809139687383, 'c_DRMF': 1.6737888393494453, 'frobenious_norm_DRMF': 593.8489385344176, 'max_norm_DRMF': 123.76182194578683, 'c_stable_PCP': 1.2859165646789568, 'frobenious_norm_stable_PCP': 377.44231546370224, 'max_norm_stable_PCP': 32.62056859967554, 'c_RMC': 1.2859165646789568, 'frobenious_norm_RMC': 377.44231546370224, 'max_norm_RMC': 32.62056859967554}\n"
     ]
    },
    {
     "name": "stderr",
     "output_type": "stream",
     "text": [
      " 42%|████▏     | 42/100 [16:31<26:11, 27.10s/it]"
     ]
    },
    {
     "name": "stdout",
     "output_type": "stream",
     "text": [
      "{'c_opt': 0.03423776606628224, 'c_EW': 0.035133437394910066, 'frobenious_norm_EW': 85.19482576483264, 'max_norm_EW': 9.727135091644024, 'c_DRMF': 0.07027273528024981, 'frobenious_norm_DRMF': 120.14922628554177, 'max_norm_DRMF': 11.067701199888646, 'c_stable_PCP': 0.5018425540589885, 'frobenious_norm_stable_PCP': 101.29589962872876, 'max_norm_stable_PCP': 11.592885747162043, 'c_RMC': 0.5843041226936808, 'frobenious_norm_RMC': 1529.4174257119805, 'max_norm_RMC': 167.59404263655793}\n"
     ]
    },
    {
     "name": "stderr",
     "output_type": "stream",
     "text": [
      " 43%|████▎     | 43/100 [16:39<20:25, 21.49s/it]"
     ]
    },
    {
     "name": "stdout",
     "output_type": "stream",
     "text": [
      "{'c_opt': 0.3544577136119957, 'c_EW': 0.3946646909961656, 'frobenious_norm_EW': 206.02492221337474, 'max_norm_EW': 24.45320291437902, 'c_DRMF': 1.8446800229307156, 'frobenious_norm_DRMF': 284.7040575443454, 'max_norm_DRMF': 35.37829632839396, 'c_stable_PCP': 1.8359190777196643, 'frobenious_norm_stable_PCP': 430.5057358989272, 'max_norm_stable_PCP': 81.14654417302987, 'c_RMC': 1.8359190777196643, 'frobenious_norm_RMC': 430.5057358989272, 'max_norm_RMC': 81.14654417302987}\n"
     ]
    },
    {
     "name": "stderr",
     "output_type": "stream",
     "text": [
      " 44%|████▍     | 44/100 [17:43<32:01, 34.31s/it]"
     ]
    },
    {
     "name": "stdout",
     "output_type": "stream",
     "text": [
      "{'c_opt': 0.4079216186659178, 'c_EW': 0.411559686957953, 'frobenious_norm_EW': 45.87949569254, 'max_norm_EW': 5.166519958925511, 'c_DRMF': 0.7910652419549666, 'frobenious_norm_DRMF': 58.3968588767744, 'max_norm_DRMF': 7.377319108660112, 'c_stable_PCP': 1.306983693207112, 'frobenious_norm_stable_PCP': 90.07291543684103, 'max_norm_stable_PCP': 12.547470234177673, 'c_RMC': 1.7912894858909554, 'frobenious_norm_RMC': 73.48372980321466, 'max_norm_RMC': 10.243141927272845}\n"
     ]
    },
    {
     "name": "stderr",
     "output_type": "stream",
     "text": [
      " 45%|████▌     | 45/100 [17:46<22:46, 24.84s/it]"
     ]
    },
    {
     "name": "stdout",
     "output_type": "stream",
     "text": [
      "{'c_opt': 0.5568493208433475, 'c_EW': 0.6685754138442422, 'frobenious_norm_EW': 265.84727396165454, 'max_norm_EW': 31.843029860200378, 'c_DRMF': 1.1488740759039016, 'frobenious_norm_DRMF': 369.3302005685494, 'max_norm_DRMF': 55.00970556462235, 'c_stable_PCP': 1.073372426034783, 'frobenious_norm_stable_PCP': 423.33456271550347, 'max_norm_stable_PCP': 42.9939545946465, 'c_RMC': 1.073372426034783, 'frobenious_norm_RMC': 423.33456271550347, 'max_norm_RMC': 42.9939545946465}\n"
     ]
    },
    {
     "name": "stderr",
     "output_type": "stream",
     "text": [
      " 46%|████▌     | 46/100 [17:55<18:02, 20.05s/it]"
     ]
    },
    {
     "name": "stdout",
     "output_type": "stream",
     "text": [
      "{'c_opt': 0.04913560576700434, 'c_EW': 0.05820278377323382, 'frobenious_norm_EW': 173.9147509595949, 'max_norm_EW': 21.621518542121358, 'c_DRMF': 0.1511938103752041, 'frobenious_norm_DRMF': 133.16992137551398, 'max_norm_DRMF': 35.1489832809117, 'c_stable_PCP': 0.5917516022644103, 'frobenious_norm_stable_PCP': 380.0599018083873, 'max_norm_stable_PCP': 48.08403535684606, 'c_RMC': 0.5917516022644103, 'frobenious_norm_RMC': 380.0599018083873, 'max_norm_RMC': 48.08403535684606}\n"
     ]
    },
    {
     "name": "stderr",
     "output_type": "stream",
     "text": [
      " 47%|████▋     | 47/100 [18:38<23:55, 27.09s/it]"
     ]
    },
    {
     "name": "stdout",
     "output_type": "stream",
     "text": [
      "{'c_opt': 0.5185359222927441, 'c_EW': 0.5469286877944587, 'frobenious_norm_EW': 138.10515775069135, 'max_norm_EW': 14.537852599357015, 'c_DRMF': 1.155850323177293, 'frobenious_norm_DRMF': 283.31148722169013, 'max_norm_DRMF': 30.243084355543395, 'c_stable_PCP': 1.0529328885112925, 'frobenious_norm_stable_PCP': 191.5757428493301, 'max_norm_stable_PCP': 20.47561657145885, 'c_RMC': 1.269765257932975, 'frobenious_norm_RMC': 2149.6378822026027, 'max_norm_RMC': 306.30924375954777}\n"
     ]
    },
    {
     "name": "stderr",
     "output_type": "stream",
     "text": [
      " 48%|████▊     | 48/100 [18:41<17:11, 19.84s/it]"
     ]
    },
    {
     "name": "stdout",
     "output_type": "stream",
     "text": [
      "{'c_opt': 0.30778958440646237, 'c_EW': 0.331280831074324, 'frobenious_norm_EW': 157.10956610091156, 'max_norm_EW': 18.746532761855505, 'c_DRMF': 0.6426788833422339, 'frobenious_norm_DRMF': 173.49063178092143, 'max_norm_DRMF': 40.668249612204114, 'c_stable_PCP': 1.190793005686929, 'frobenious_norm_stable_PCP': 479.46578675652245, 'max_norm_stable_PCP': 54.75760498032147, 'c_RMC': 1.190793005686929, 'frobenious_norm_RMC': 479.46578675652245, 'max_norm_RMC': 54.75760498032147}\n"
     ]
    },
    {
     "name": "stderr",
     "output_type": "stream",
     "text": [
      " 49%|████▉     | 49/100 [18:48<13:35, 15.99s/it]"
     ]
    },
    {
     "name": "stdout",
     "output_type": "stream",
     "text": [
      "{'c_opt': 0.3319708313331644, 'c_EW': 0.4078343543603061, 'frobenious_norm_EW': 302.48878805372095, 'max_norm_EW': 38.481895035511876, 'c_DRMF': 1.0925941478282912, 'frobenious_norm_DRMF': 569.0639427780796, 'max_norm_DRMF': 67.74480355346239, 'c_stable_PCP': 0.8676068936160466, 'frobenious_norm_stable_PCP': 431.9694866864909, 'max_norm_stable_PCP': 49.34700975942589, 'c_RMC': 0.8676068936160466, 'frobenious_norm_RMC': 431.9694866864909, 'max_norm_RMC': 49.34700975942589}\n"
     ]
    },
    {
     "name": "stderr",
     "output_type": "stream",
     "text": [
      " 50%|█████     | 50/100 [19:31<19:53, 23.88s/it]"
     ]
    },
    {
     "name": "stdout",
     "output_type": "stream",
     "text": [
      "{'c_opt': 0.047982936995990114, 'c_EW': 0.04819088215825711, 'frobenious_norm_EW': 51.66016837690287, 'max_norm_EW': 5.361014001200543, 'c_DRMF': 0.10366986368549722, 'frobenious_norm_DRMF': 74.67823714617447, 'max_norm_DRMF': 18.002902552309713, 'c_stable_PCP': 0.9925054762674128, 'frobenious_norm_stable_PCP': 70.49192587148475, 'max_norm_stable_PCP': 7.71249526389314, 'c_RMC': 1.8029468475123085, 'frobenious_norm_RMC': 62.32249527684343, 'max_norm_RMC': 7.238581538627458}\n"
     ]
    },
    {
     "name": "stderr",
     "output_type": "stream",
     "text": [
      " 51%|█████     | 51/100 [19:32<14:06, 17.28s/it]"
     ]
    },
    {
     "name": "stdout",
     "output_type": "stream",
     "text": [
      "{'c_opt': 0.7003445183346438, 'c_EW': 0.8277237539679122, 'frobenious_norm_EW': 267.9754230979329, 'max_norm_EW': 28.129810830192728, 'c_DRMF': 1.370362473198988, 'frobenious_norm_DRMF': 272.6230005260882, 'max_norm_DRMF': 35.59608274543527, 'c_stable_PCP': 1.2261489525277478, 'frobenious_norm_stable_PCP': 382.3272261685715, 'max_norm_stable_PCP': 41.08473019861551, 'c_RMC': 1.2261489525277478, 'frobenious_norm_RMC': 382.3272261685715, 'max_norm_RMC': 41.08473019861551}\n"
     ]
    },
    {
     "name": "stderr",
     "output_type": "stream",
     "text": [
      " 52%|█████▏    | 52/100 [19:37<10:46, 13.47s/it]"
     ]
    },
    {
     "name": "stdout",
     "output_type": "stream",
     "text": [
      "{'c_opt': 0.781334037941313, 'c_EW': 0.9357983793937695, 'frobenious_norm_EW': 287.6188255473813, 'max_norm_EW': 30.912989963344536, 'c_DRMF': 1.793568029687735, 'frobenious_norm_DRMF': 495.03597308457904, 'max_norm_DRMF': 60.989441312214666, 'c_stable_PCP': 1.494288068398728, 'frobenious_norm_stable_PCP': 366.63096770942497, 'max_norm_stable_PCP': 37.10107349376197, 'c_RMC': 1.494288068398728, 'frobenious_norm_RMC': 366.63096770942497, 'max_norm_RMC': 37.10107349376197}\n"
     ]
    },
    {
     "name": "stderr",
     "output_type": "stream",
     "text": [
      " 53%|█████▎    | 53/100 [20:26<18:47, 24.00s/it]"
     ]
    },
    {
     "name": "stdout",
     "output_type": "stream",
     "text": [
      "{'c_opt': 0.7883992008269934, 'c_EW': 0.8402940699378593, 'frobenious_norm_EW': 94.09163930555019, 'max_norm_EW': 8.358939609332019, 'c_DRMF': 2.1528945877216854, 'frobenious_norm_DRMF': 165.2836968824636, 'max_norm_DRMF': 14.48900768841823, 'c_stable_PCP': 2.023903267038301, 'frobenious_norm_stable_PCP': 177.20993839194557, 'max_norm_stable_PCP': 14.745356295996517, 'c_RMC': 2.3776281252584646, 'frobenious_norm_RMC': 151.57137224236718, 'max_norm_RMC': 14.367987883957813}\n"
     ]
    },
    {
     "name": "stderr",
     "output_type": "stream",
     "text": [
      " 54%|█████▍    | 54/100 [20:30<13:49, 18.04s/it]"
     ]
    },
    {
     "name": "stdout",
     "output_type": "stream",
     "text": [
      "{'c_opt': 0.19728015520232936, 'c_EW': 0.21624918406410754, 'frobenious_norm_EW': 241.4348335680733, 'max_norm_EW': 47.32099561671093, 'c_DRMF': 0.3948790682742903, 'frobenious_norm_DRMF': 260.98439335556367, 'max_norm_DRMF': 85.43031418302932, 'c_stable_PCP': 0.4819511771253735, 'frobenious_norm_stable_PCP': 517.6125684473039, 'max_norm_stable_PCP': 104.20485351680952, 'c_RMC': 0.4819511771253735, 'frobenious_norm_RMC': 517.6125684473039, 'max_norm_RMC': 104.20485351680952}\n"
     ]
    },
    {
     "name": "stderr",
     "output_type": "stream",
     "text": [
      " 55%|█████▌    | 55/100 [21:05<17:25, 23.22s/it]"
     ]
    },
    {
     "name": "stdout",
     "output_type": "stream",
     "text": [
      "{'c_opt': 0.46786254896496277, 'c_EW': 0.49013620085993653, 'frobenious_norm_EW': 60.07841233569899, 'max_norm_EW': 5.272014516981733, 'c_DRMF': 1.0926922488478434, 'frobenious_norm_DRMF': 107.60981586787274, 'max_norm_DRMF': 19.083693408816696, 'c_stable_PCP': 1.5893625959997613, 'frobenious_norm_stable_PCP': 82.44908206657779, 'max_norm_stable_PCP': 6.961550931250659, 'c_RMC': 1.978125112254006, 'frobenious_norm_RMC': 95.46147351855107, 'max_norm_RMC': 7.411327841404397}\n"
     ]
    },
    {
     "name": "stderr",
     "output_type": "stream",
     "text": [
      " 56%|█████▌    | 56/100 [21:09<12:41, 17.32s/it]"
     ]
    },
    {
     "name": "stdout",
     "output_type": "stream",
     "text": [
      "{'c_opt': 0.4778839348782575, 'c_EW': 0.5024168519558287, 'frobenious_norm_EW': 175.87263713231653, 'max_norm_EW': 28.821177688257038, 'c_DRMF': 0.9242182681533077, 'frobenious_norm_DRMF': 228.96840036807197, 'max_norm_DRMF': 57.10053247520844, 'c_stable_PCP': 0.9556255833936111, 'frobenious_norm_stable_PCP': 469.741081436617, 'max_norm_stable_PCP': 77.02805257780338, 'c_RMC': 0.9556255833936111, 'frobenious_norm_RMC': 469.741081436617, 'max_norm_RMC': 77.02805257780338}\n"
     ]
    },
    {
     "name": "stderr",
     "output_type": "stream",
     "text": [
      " 57%|█████▋    | 57/100 [21:11<09:12, 12.85s/it]"
     ]
    },
    {
     "name": "stdout",
     "output_type": "stream",
     "text": [
      "{'c_opt': 0.8172527792797813, 'c_EW': 0.8485383323077047, 'frobenious_norm_EW': 154.17094772445498, 'max_norm_EW': 32.52266684933316, 'c_DRMF': 1.5465848485896192, 'frobenious_norm_DRMF': 252.45029227834206, 'max_norm_DRMF': 47.84555081313092, 'c_stable_PCP': 1.8020040560796116, 'frobenious_norm_stable_PCP': 615.7102404101132, 'max_norm_stable_PCP': 86.86085245535953, 'c_RMC': 1.8020040560796116, 'frobenious_norm_RMC': 615.7102404101132, 'max_norm_RMC': 86.86085245535953}\n"
     ]
    },
    {
     "name": "stderr",
     "output_type": "stream",
     "text": [
      " 58%|█████▊    | 58/100 [21:25<09:10, 13.10s/it]"
     ]
    },
    {
     "name": "stdout",
     "output_type": "stream",
     "text": [
      "{'c_opt': 0.47053932557084455, 'c_EW': 0.5075239073227136, 'frobenious_norm_EW': 123.05481025323273, 'max_norm_EW': 11.781628176532795, 'c_DRMF': 1.2546863285139322, 'frobenious_norm_DRMF': 175.9776899647749, 'max_norm_DRMF': 18.88073970586761, 'c_stable_PCP': 1.2438123167654815, 'frobenious_norm_stable_PCP': 199.23243679023352, 'max_norm_stable_PCP': 21.609337496971676, 'c_RMC': 1.2620180468363258, 'frobenious_norm_RMC': 3235.536257012815, 'max_norm_RMC': 363.4390381934492}\n"
     ]
    },
    {
     "name": "stderr",
     "output_type": "stream",
     "text": [
      " 59%|█████▉    | 59/100 [21:28<06:59, 10.24s/it]"
     ]
    },
    {
     "name": "stdout",
     "output_type": "stream",
     "text": [
      "{'c_opt': 0.25539169413590374, 'c_EW': 0.2997194673454988, 'frobenious_norm_EW': 241.53681510435644, 'max_norm_EW': 25.04354757972129, 'c_DRMF': 0.9754468378703048, 'frobenious_norm_DRMF': 398.9356798133014, 'max_norm_DRMF': 71.45507379438533, 'c_stable_PCP': 1.3465333325236668, 'frobenious_norm_stable_PCP': 673.6398200342547, 'max_norm_stable_PCP': 89.0672725143802, 'c_RMC': 1.3465333325236668, 'frobenious_norm_RMC': 673.6398200342547, 'max_norm_RMC': 89.0672725143802}\n"
     ]
    },
    {
     "name": "stderr",
     "output_type": "stream",
     "text": [
      " 60%|██████    | 60/100 [21:31<05:15,  7.88s/it]"
     ]
    },
    {
     "name": "stdout",
     "output_type": "stream",
     "text": [
      "{'c_opt': 0.11873008761959651, 'c_EW': 0.12808512107786205, 'frobenious_norm_EW': 152.5389515664516, 'max_norm_EW': 13.604859842551193, 'c_DRMF': 0.2480498591368478, 'frobenious_norm_DRMF': 129.6568079931146, 'max_norm_DRMF': 15.167149924964555, 'c_stable_PCP': 0.4363381520946956, 'frobenious_norm_stable_PCP': 277.82915598227834, 'max_norm_stable_PCP': 35.496023494987526, 'c_RMC': 0.4363381520946956, 'frobenious_norm_RMC': 277.82915598227834, 'max_norm_RMC': 35.496023494987526}\n"
     ]
    },
    {
     "name": "stderr",
     "output_type": "stream",
     "text": [
      " 61%|██████    | 61/100 [21:33<03:58,  6.10s/it]"
     ]
    },
    {
     "name": "stdout",
     "output_type": "stream",
     "text": [
      "{'c_opt': 0.6606867022719952, 'c_EW': 0.6858630339320321, 'frobenious_norm_EW': 112.44818898152431, 'max_norm_EW': 13.283425230667497, 'c_DRMF': 1.266957622361393, 'frobenious_norm_DRMF': 132.09481732601765, 'max_norm_DRMF': 18.913716200653834, 'c_stable_PCP': 1.478057277305138, 'frobenious_norm_stable_PCP': 381.61758175609486, 'max_norm_stable_PCP': 57.62020417390102, 'c_RMC': 1.478057277305138, 'frobenious_norm_RMC': 381.61758175609486, 'max_norm_RMC': 57.62020417390102}\n"
     ]
    },
    {
     "name": "stderr",
     "output_type": "stream",
     "text": [
      " 62%|██████▏   | 62/100 [22:17<11:14, 17.74s/it]"
     ]
    },
    {
     "name": "stdout",
     "output_type": "stream",
     "text": [
      "{'c_opt': 0.2508425909205843, 'c_EW': 0.2538108194217907, 'frobenious_norm_EW': 56.79024025539455, 'max_norm_EW': 6.4166755249409295, 'c_DRMF': 0.5236488426285933, 'frobenious_norm_DRMF': 90.3714107847644, 'max_norm_DRMF': 9.035003124026307, 'c_stable_PCP': 1.1210663142157897, 'frobenious_norm_stable_PCP': 73.20081018141725, 'max_norm_stable_PCP': 7.783900292014922, 'c_RMC': 2.223416822198462, 'frobenious_norm_RMC': 64.84111741088009, 'max_norm_RMC': 6.559995764997247}\n"
     ]
    },
    {
     "name": "stderr",
     "output_type": "stream",
     "text": [
      " 63%|██████▎   | 63/100 [22:26<09:12, 14.94s/it]"
     ]
    },
    {
     "name": "stdout",
     "output_type": "stream",
     "text": [
      "{'c_opt': 0.5708414624411561, 'c_EW': 0.5993213030006515, 'frobenious_norm_EW': 108.48793346774592, 'max_norm_EW': 10.740652004284334, 'c_DRMF': 1.0481674071113376, 'frobenious_norm_DRMF': 118.59902190323385, 'max_norm_DRMF': 13.259697069730933, 'c_stable_PCP': 1.0968629920169517, 'frobenious_norm_stable_PCP': 165.66526399815825, 'max_norm_stable_PCP': 18.302786875872755, 'c_RMC': 1.0968629920169517, 'frobenious_norm_RMC': 165.66526399815825, 'max_norm_RMC': 18.302786875872755}\n"
     ]
    },
    {
     "name": "stderr",
     "output_type": "stream",
     "text": [
      " 64%|██████▍   | 64/100 [23:27<17:20, 28.91s/it]"
     ]
    },
    {
     "name": "stdout",
     "output_type": "stream",
     "text": [
      "{'c_opt': 0.6979696357607893, 'c_EW': 0.7201590746979326, 'frobenious_norm_EW': 73.67752175829693, 'max_norm_EW': 6.541674498487115, 'c_DRMF': 1.4411151205099388, 'frobenious_norm_DRMF': 134.2613068248079, 'max_norm_DRMF': 10.596323812122801, 'c_stable_PCP': 1.3968421441160883, 'frobenious_norm_stable_PCP': 103.2294171279576, 'max_norm_stable_PCP': 8.752449986530868, 'c_RMC': 1.5931564486456118, 'frobenious_norm_RMC': 111.20482793887864, 'max_norm_RMC': 10.59926404292325}\n"
     ]
    },
    {
     "name": "stderr",
     "output_type": "stream",
     "text": [
      " 65%|██████▌   | 65/100 [23:31<12:24, 21.26s/it]"
     ]
    },
    {
     "name": "stdout",
     "output_type": "stream",
     "text": [
      "{'c_opt': 0.7701632762850253, 'c_EW': 0.8827610706791965, 'frobenious_norm_EW': 223.532357310904, 'max_norm_EW': 19.026577688670262, 'c_DRMF': 1.5193502160888779, 'frobenious_norm_DRMF': 320.66311503517284, 'max_norm_DRMF': 40.22401642594039, 'c_stable_PCP': 1.2914777796208516, 'frobenious_norm_stable_PCP': 282.89294930396244, 'max_norm_stable_PCP': 31.33051427123423, 'c_RMC': 1.2914777796208516, 'frobenious_norm_RMC': 282.89294930396244, 'max_norm_RMC': 31.33051427123423}\n"
     ]
    },
    {
     "name": "stderr",
     "output_type": "stream",
     "text": [
      " 66%|██████▌   | 66/100 [23:34<08:59, 15.86s/it]"
     ]
    },
    {
     "name": "stdout",
     "output_type": "stream",
     "text": [
      "{'c_opt': 0.5258425340846734, 'c_EW': 0.6123515004331741, 'frobenious_norm_EW': 253.48628956071795, 'max_norm_EW': 32.74191618678103, 'c_DRMF': 1.2054174748831665, 'frobenious_norm_DRMF': 373.74627526500876, 'max_norm_DRMF': 59.33437283926594, 'c_stable_PCP': 1.0366801147447515, 'frobenious_norm_stable_PCP': 396.2572808100539, 'max_norm_stable_PCP': 58.37660338710711, 'c_RMC': 1.0366801147447515, 'frobenious_norm_RMC': 396.2572808100539, 'max_norm_RMC': 58.37660338710711}\n"
     ]
    },
    {
     "name": "stderr",
     "output_type": "stream",
     "text": [
      " 67%|██████▋   | 67/100 [23:48<08:28, 15.39s/it]"
     ]
    },
    {
     "name": "stdout",
     "output_type": "stream",
     "text": [
      "{'c_opt': 0.6574616739016012, 'c_EW': 0.703732631766782, 'frobenious_norm_EW': 138.40932100807785, 'max_norm_EW': 12.700166771732013, 'c_DRMF': 1.352294795078975, 'frobenious_norm_DRMF': 256.61177875031547, 'max_norm_DRMF': 36.52111064958763, 'c_stable_PCP': 1.085712122827753, 'frobenious_norm_stable_PCP': 169.9292464410876, 'max_norm_stable_PCP': 14.729145281600712, 'c_RMC': 1.085712122827753, 'frobenious_norm_RMC': 169.9292464410876, 'max_norm_RMC': 14.729145281600712}\n"
     ]
    },
    {
     "name": "stderr",
     "output_type": "stream",
     "text": [
      " 68%|██████▊   | 68/100 [23:52<06:23, 11.98s/it]"
     ]
    },
    {
     "name": "stdout",
     "output_type": "stream",
     "text": [
      "{'c_opt': 0.042265543613883405, 'c_EW': 0.04278114853314825, 'frobenious_norm_EW': 99.90178203076337, 'max_norm_EW': 11.755991513284819, 'c_DRMF': 0.08612287834627168, 'frobenious_norm_DRMF': 74.92449907092352, 'max_norm_DRMF': 7.467569546703764, 'c_stable_PCP': 0.6030355821087753, 'frobenious_norm_stable_PCP': 254.78162293442705, 'max_norm_stable_PCP': 38.60061968215943, 'c_RMC': 0.6030355821087753, 'frobenious_norm_RMC': 254.78162293442705, 'max_norm_RMC': 38.60061968215943}\n"
     ]
    },
    {
     "name": "stderr",
     "output_type": "stream",
     "text": [
      " 69%|██████▉   | 69/100 [23:55<04:41,  9.07s/it]"
     ]
    },
    {
     "name": "stdout",
     "output_type": "stream",
     "text": [
      "{'c_opt': 0.029805973776299906, 'c_EW': 0.03472458618038074, 'frobenious_norm_EW': 280.7643508766554, 'max_norm_EW': 36.567021098192065, 'c_DRMF': 0.922134244619396, 'frobenious_norm_DRMF': 409.8990465812028, 'max_norm_DRMF': 53.43973824729399, 'c_stable_PCP': 0.9778226463759225, 'frobenious_norm_stable_PCP': 407.0569684256918, 'max_norm_stable_PCP': 36.462628056236895, 'c_RMC': 0.9778226463759225, 'frobenious_norm_RMC': 407.0569684256918, 'max_norm_RMC': 36.462628056236895}\n"
     ]
    },
    {
     "name": "stderr",
     "output_type": "stream",
     "text": [
      " 70%|███████   | 70/100 [24:04<04:34,  9.15s/it]"
     ]
    },
    {
     "name": "stdout",
     "output_type": "stream",
     "text": [
      "{'c_opt': 0.8437665431172664, 'c_EW': 0.893144040081282, 'frobenious_norm_EW': 126.22433647504168, 'max_norm_EW': 12.939384729472195, 'c_DRMF': 1.4789319101680947, 'frobenious_norm_DRMF': 148.5499481962043, 'max_norm_DRMF': 23.42040141445158, 'c_stable_PCP': 1.371067299519256, 'frobenious_norm_stable_PCP': 212.88018719193903, 'max_norm_stable_PCP': 25.46404007404579, 'c_RMC': 1.371067299519256, 'frobenious_norm_RMC': 212.88018719193903, 'max_norm_RMC': 25.46404007404579}\n"
     ]
    },
    {
     "name": "stderr",
     "output_type": "stream",
     "text": [
      " 71%|███████   | 71/100 [24:58<10:51, 22.48s/it]"
     ]
    },
    {
     "name": "stdout",
     "output_type": "stream",
     "text": [
      "{'c_opt': 0.3948023806209825, 'c_EW': 0.4112971557766349, 'frobenious_norm_EW': 110.98191755862979, 'max_norm_EW': 17.885916245594565, 'c_DRMF': 0.7941399223166691, 'frobenious_norm_DRMF': 199.63742800275352, 'max_norm_DRMF': 43.591766638354144, 'c_stable_PCP': 0.7627258011247277, 'frobenious_norm_stable_PCP': 138.28443259885344, 'max_norm_stable_PCP': 10.60175902392496, 'c_RMC': 0.8755850975996812, 'frobenious_norm_RMC': 1638.4577397959226, 'max_norm_RMC': 194.65168193069877}\n"
     ]
    },
    {
     "name": "stderr",
     "output_type": "stream",
     "text": [
      " 72%|███████▏  | 72/100 [25:51<14:53, 31.92s/it]"
     ]
    },
    {
     "name": "stdout",
     "output_type": "stream",
     "text": [
      "{'c_opt': 0.8334251401985519, 'c_EW': 0.8576017698536172, 'frobenious_norm_EW': 69.31223499742019, 'max_norm_EW': 7.539187296012214, 'c_DRMF': 1.7972571676004698, 'frobenious_norm_DRMF': 104.25508073451833, 'max_norm_DRMF': 8.782165268223203, 'c_stable_PCP': 1.7356105833318916, 'frobenious_norm_stable_PCP': 133.31157967465083, 'max_norm_stable_PCP': 17.644163286385485, 'c_RMC': 2.0845245161356147, 'frobenious_norm_RMC': 115.30665826000688, 'max_norm_RMC': 13.847594355377414}\n"
     ]
    },
    {
     "name": "stderr",
     "output_type": "stream",
     "text": [
      " 73%|███████▎  | 73/100 [26:07<12:11, 27.09s/it]"
     ]
    },
    {
     "name": "stdout",
     "output_type": "stream",
     "text": [
      "{'c_opt': 0.536068442801838, 'c_EW': 0.5983727780786289, 'frobenious_norm_EW': 191.85905821189198, 'max_norm_EW': 13.623793402869651, 'c_DRMF': 1.7409450631914225, 'frobenious_norm_DRMF': 353.3265512939955, 'max_norm_DRMF': 47.89947647402751, 'c_stable_PCP': 1.3444467569833893, 'frobenious_norm_stable_PCP': 292.4623314822228, 'max_norm_stable_PCP': 32.82097758106057, 'c_RMC': 1.3444467569833893, 'frobenious_norm_RMC': 292.4623314822228, 'max_norm_RMC': 32.82097758106057}\n"
     ]
    },
    {
     "name": "stderr",
     "output_type": "stream",
     "text": [
      " 74%|███████▍  | 74/100 [26:32<11:24, 26.33s/it]"
     ]
    },
    {
     "name": "stdout",
     "output_type": "stream",
     "text": [
      "{'c_opt': 0.5651095208598934, 'c_EW': 0.5858331240422983, 'frobenious_norm_EW': 68.22325486280984, 'max_norm_EW': 6.521739467003219, 'c_DRMF': 1.0314866405948069, 'frobenious_norm_DRMF': 128.35788120105641, 'max_norm_DRMF': 23.633550698801777, 'c_stable_PCP': 1.2404165206748485, 'frobenious_norm_stable_PCP': 85.8308305230404, 'max_norm_stable_PCP': 6.80672355322862, 'c_RMC': 1.78386256918122, 'frobenious_norm_RMC': 75.26111545101827, 'max_norm_RMC': 6.163433825172169}\n"
     ]
    },
    {
     "name": "stderr",
     "output_type": "stream",
     "text": [
      " 75%|███████▌  | 75/100 [27:07<12:04, 28.98s/it]"
     ]
    },
    {
     "name": "stdout",
     "output_type": "stream",
     "text": [
      "{'c_opt': 1.0399546077762851, 'c_EW': 1.067337973047742, 'frobenious_norm_EW': 59.417412390494356, 'max_norm_EW': 7.219909968456917, 'c_DRMF': 2.3402806945056502, 'frobenious_norm_DRMF': 112.51468961482585, 'max_norm_DRMF': 14.415472900931114, 'c_stable_PCP': 2.156432976740562, 'frobenious_norm_stable_PCP': 92.82246113475702, 'max_norm_stable_PCP': 9.302078627870616, 'c_RMC': 2.6402837915436663, 'frobenious_norm_RMC': 80.39206777139569, 'max_norm_RMC': 7.31057847416869}\n"
     ]
    },
    {
     "name": "stderr",
     "output_type": "stream",
     "text": [
      " 76%|███████▌  | 76/100 [27:12<08:42, 21.76s/it]"
     ]
    },
    {
     "name": "stdout",
     "output_type": "stream",
     "text": [
      "{'c_opt': 0.5578132726255914, 'c_EW': 0.5934254293780935, 'frobenious_norm_EW': 133.05107639646232, 'max_norm_EW': 14.465032136738762, 'c_DRMF': 1.1070007927077423, 'frobenious_norm_DRMF': 188.59994532617785, 'max_norm_DRMF': 49.38528679927804, 'c_stable_PCP': 0.9971414706573402, 'frobenious_norm_stable_PCP': 187.5682315648906, 'max_norm_stable_PCP': 18.122630853571593, 'c_RMC': 0.9971414706573402, 'frobenious_norm_RMC': 187.5682315648906, 'max_norm_RMC': 18.122630853571593}\n"
     ]
    },
    {
     "name": "stderr",
     "output_type": "stream",
     "text": [
      " 77%|███████▋  | 77/100 [27:18<06:34, 17.17s/it]"
     ]
    },
    {
     "name": "stdout",
     "output_type": "stream",
     "text": [
      "{'c_opt': 0.45100955137171317, 'c_EW': 0.5000075532438569, 'frobenious_norm_EW': 158.06018792717933, 'max_norm_EW': 13.99967741800448, 'c_DRMF': 1.2390467072155982, 'frobenious_norm_DRMF': 251.0216969642444, 'max_norm_DRMF': 26.703646751270544, 'c_stable_PCP': 1.1033962654177047, 'frobenious_norm_stable_PCP': 246.88080586517555, 'max_norm_stable_PCP': 20.34024226660612, 'c_RMC': 1.1033962654177047, 'frobenious_norm_RMC': 246.88080586517555, 'max_norm_RMC': 20.34024226660612}\n"
     ]
    },
    {
     "name": "stderr",
     "output_type": "stream",
     "text": [
      " 78%|███████▊  | 78/100 [27:21<04:44, 12.94s/it]"
     ]
    },
    {
     "name": "stdout",
     "output_type": "stream",
     "text": [
      "{'c_opt': 0.3005933251867877, 'c_EW': 0.3647502219532658, 'frobenious_norm_EW': 261.67121055192064, 'max_norm_EW': 25.956183857755732, 'c_DRMF': 0.6788770704016267, 'frobenious_norm_DRMF': 326.9009060936352, 'max_norm_DRMF': 43.62153935393388, 'c_stable_PCP': 0.6058930752724764, 'frobenious_norm_stable_PCP': 351.7057332322397, 'max_norm_stable_PCP': 42.789414366550474, 'c_RMC': 0.6058930752724764, 'frobenious_norm_RMC': 351.7057332322397, 'max_norm_RMC': 42.789414366550474}\n"
     ]
    },
    {
     "name": "stderr",
     "output_type": "stream",
     "text": [
      " 79%|███████▉  | 79/100 [28:06<07:52, 22.50s/it]"
     ]
    },
    {
     "name": "stdout",
     "output_type": "stream",
     "text": [
      "{'c_opt': 0.025847841934757962, 'c_EW': 0.026297853119930943, 'frobenious_norm_EW': 87.035646515371, 'max_norm_EW': 5.756147425806848, 'c_DRMF': 0.051491572303772624, 'frobenious_norm_DRMF': 113.84229197521145, 'max_norm_DRMF': 8.90083442239199, 'c_stable_PCP': 0.4725182427132583, 'frobenious_norm_stable_PCP': 101.8447805310526, 'max_norm_stable_PCP': 7.340136724203104, 'c_RMC': 0.5188972948357425, 'frobenious_norm_RMC': 1475.4289278664294, 'max_norm_RMC': 154.6172544351474}\n"
     ]
    },
    {
     "name": "stderr",
     "output_type": "stream",
     "text": [
      " 80%|████████  | 80/100 [28:33<07:56, 23.83s/it]"
     ]
    },
    {
     "name": "stdout",
     "output_type": "stream",
     "text": [
      "{'c_opt': 1.0144283722768686, 'c_EW': 1.0462040793930156, 'frobenious_norm_EW': 81.24315646551825, 'max_norm_EW': 8.87441411496551, 'c_DRMF': 2.1103394633331147, 'frobenious_norm_DRMF': 147.26400665292888, 'max_norm_DRMF': 20.97045285198413, 'c_stable_PCP': 1.8584296904154103, 'frobenious_norm_stable_PCP': 128.6550828930754, 'max_norm_stable_PCP': 16.22773876009858, 'c_RMC': 2.267257025953147, 'frobenious_norm_RMC': 107.06752790281618, 'max_norm_RMC': 10.475070164523071}\n"
     ]
    },
    {
     "name": "stderr",
     "output_type": "stream",
     "text": [
      " 81%|████████  | 81/100 [29:00<07:50, 24.79s/it]"
     ]
    },
    {
     "name": "stdout",
     "output_type": "stream",
     "text": [
      "{'c_opt': 0.41696110324665525, 'c_EW': 0.43074568826988463, 'frobenious_norm_EW': 218.60549556891885, 'max_norm_EW': 46.944466632073826, 'c_DRMF': 0.7877744653830758, 'frobenious_norm_DRMF': 215.25398457906948, 'max_norm_DRMF': 46.2643166773513, 'c_stable_PCP': 0.6172217912837048, 'frobenious_norm_stable_PCP': 394.93095741376345, 'max_norm_stable_PCP': 107.41730896130832, 'c_RMC': 0.6172217912837048, 'frobenious_norm_RMC': 394.93095741376345, 'max_norm_RMC': 107.41730896130832}\n"
     ]
    },
    {
     "name": "stderr",
     "output_type": "stream",
     "text": [
      " 82%|████████▏ | 82/100 [29:05<05:38, 18.80s/it]"
     ]
    },
    {
     "name": "stdout",
     "output_type": "stream",
     "text": [
      "{'c_opt': 0.32144981997365607, 'c_EW': 0.3788965684872756, 'frobenious_norm_EW': 244.8963267753249, 'max_norm_EW': 36.820707058448164, 'c_DRMF': 0.7923513935977053, 'frobenious_norm_DRMF': 342.087507595628, 'max_norm_DRMF': 104.81449100110387, 'c_stable_PCP': 0.7663487361551049, 'frobenious_norm_stable_PCP': 376.704797959204, 'max_norm_stable_PCP': 51.76097582211883, 'c_RMC': 0.7663487361551049, 'frobenious_norm_RMC': 376.704797959204, 'max_norm_RMC': 51.76097582211883}\n"
     ]
    },
    {
     "name": "stderr",
     "output_type": "stream",
     "text": [
      " 83%|████████▎ | 83/100 [29:08<03:56, 13.90s/it]"
     ]
    },
    {
     "name": "stdout",
     "output_type": "stream",
     "text": [
      "{'c_opt': 0.6115919753860369, 'c_EW': 0.7046746143925621, 'frobenious_norm_EW': 266.15255860181367, 'max_norm_EW': 36.52306685727656, 'c_DRMF': 1.2549057547552407, 'frobenious_norm_DRMF': 287.5553774159248, 'max_norm_DRMF': 80.61124563993855, 'c_stable_PCP': 1.1414171763322265, 'frobenious_norm_stable_PCP': 413.76324708982565, 'max_norm_stable_PCP': 87.04913969228907, 'c_RMC': 1.1414171763322265, 'frobenious_norm_RMC': 413.76324708982565, 'max_norm_RMC': 87.04913969228907}\n"
     ]
    },
    {
     "name": "stderr",
     "output_type": "stream",
     "text": [
      " 84%|████████▍ | 84/100 [29:51<06:04, 22.77s/it]"
     ]
    },
    {
     "name": "stdout",
     "output_type": "stream",
     "text": [
      "{'c_opt': 0.5605027098014733, 'c_EW': 0.5799093829657891, 'frobenious_norm_EW': 77.28418819865904, 'max_norm_EW': 7.380966861008552, 'c_DRMF': 1.2591093827414401, 'frobenious_norm_DRMF': 166.8819963576734, 'max_norm_DRMF': 13.974646591338974, 'c_stable_PCP': 1.2935265097322701, 'frobenious_norm_stable_PCP': 99.83179525241047, 'max_norm_stable_PCP': 8.062973413721785, 'c_RMC': 2.029887710525603, 'frobenious_norm_RMC': 81.79823368642221, 'max_norm_RMC': 7.142676977765752}\n"
     ]
    },
    {
     "name": "stderr",
     "output_type": "stream",
     "text": [
      " 85%|████████▌ | 85/100 [29:54<04:11, 16.78s/it]"
     ]
    },
    {
     "name": "stdout",
     "output_type": "stream",
     "text": [
      "{'c_opt': 0.49391791595885665, 'c_EW': 0.6209204626093194, 'frobenious_norm_EW': 329.3967053069667, 'max_norm_EW': 47.3609065311953, 'c_DRMF': 1.1140777241225117, 'frobenious_norm_DRMF': 464.3001680710223, 'max_norm_DRMF': 109.82178569598416, 'c_stable_PCP': 0.9589851515053173, 'frobenious_norm_stable_PCP': 476.49396387391647, 'max_norm_stable_PCP': 80.99418431089592, 'c_RMC': 0.9589851515053173, 'frobenious_norm_RMC': 476.49396387391647, 'max_norm_RMC': 80.99418431089592}\n"
     ]
    },
    {
     "name": "stderr",
     "output_type": "stream",
     "text": [
      " 86%|████████▌ | 86/100 [30:01<03:13, 13.85s/it]"
     ]
    },
    {
     "name": "stdout",
     "output_type": "stream",
     "text": [
      "{'c_opt': 0.5585557841864806, 'c_EW': 0.6338893311521652, 'frobenious_norm_EW': 231.07356537259764, 'max_norm_EW': 22.273968003161748, 'c_DRMF': 1.64279561865564, 'frobenious_norm_DRMF': 458.47189126213914, 'max_norm_DRMF': 42.615934989672695, 'c_stable_PCP': 1.289783765708567, 'frobenious_norm_stable_PCP': 350.5416328849716, 'max_norm_stable_PCP': 26.179351260983317, 'c_RMC': 1.289783765708567, 'frobenious_norm_RMC': 350.5416328849716, 'max_norm_RMC': 26.179351260983317}\n"
     ]
    },
    {
     "name": "stderr",
     "output_type": "stream",
     "text": [
      " 87%|████████▋ | 87/100 [30:45<04:56, 22.82s/it]"
     ]
    },
    {
     "name": "stdout",
     "output_type": "stream",
     "text": [
      "{'c_opt': 0.22882674529744576, 'c_EW': 0.2414270332751853, 'frobenious_norm_EW': 104.00334525733211, 'max_norm_EW': 6.05667113152629, 'c_DRMF': 0.5013327485339947, 'frobenious_norm_DRMF': 179.76534878472896, 'max_norm_DRMF': 18.729957667719695, 'c_stable_PCP': 0.6674829086312494, 'frobenious_norm_stable_PCP': 127.53916345680732, 'max_norm_stable_PCP': 7.257282464993293, 'c_RMC': 0.7583985838578063, 'frobenious_norm_RMC': 1763.8949653436023, 'max_norm_RMC': 163.91310659027917}\n"
     ]
    },
    {
     "name": "stderr",
     "output_type": "stream",
     "text": [
      " 88%|████████▊ | 88/100 [30:54<03:44, 18.73s/it]"
     ]
    },
    {
     "name": "stdout",
     "output_type": "stream",
     "text": [
      "{'c_opt': 0.23781009511116213, 'c_EW': 0.2604639187021872, 'frobenious_norm_EW': 153.5598714641352, 'max_norm_EW': 14.352618158449019, 'c_DRMF': 0.599049869728982, 'frobenious_norm_DRMF': 203.5496131927168, 'max_norm_DRMF': 41.87023351628395, 'c_stable_PCP': 0.8407994023903239, 'frobenious_norm_stable_PCP': 313.0736148733073, 'max_norm_stable_PCP': 36.833765597498726, 'c_RMC': 0.8407994023903239, 'frobenious_norm_RMC': 313.0736148733073, 'max_norm_RMC': 36.833765597498726}\n"
     ]
    },
    {
     "name": "stderr",
     "output_type": "stream",
     "text": [
      " 89%|████████▉ | 89/100 [31:47<05:19, 29.07s/it]"
     ]
    },
    {
     "name": "stdout",
     "output_type": "stream",
     "text": [
      "{'c_opt': 0.1833747929113398, 'c_EW': 0.18373287186685158, 'frobenious_norm_EW': 48.0713549557891, 'max_norm_EW': 6.212390240263488, 'c_DRMF': 0.3735998970492341, 'frobenious_norm_DRMF': 66.87764696810854, 'max_norm_DRMF': 17.067856330656376, 'c_stable_PCP': 1.1967156967982195, 'frobenious_norm_stable_PCP': 60.99147233204802, 'max_norm_stable_PCP': 6.157064787192178, 'c_RMC': 1.3477175724097055, 'frobenious_norm_RMC': 66.44490525086692, 'max_norm_RMC': 7.777039350198704}\n"
     ]
    },
    {
     "name": "stderr",
     "output_type": "stream",
     "text": [
      " 90%|█████████ | 90/100 [31:50<03:32, 21.27s/it]"
     ]
    },
    {
     "name": "stdout",
     "output_type": "stream",
     "text": [
      "{'c_opt': 0.3395263408806954, 'c_EW': 0.4023930876608123, 'frobenious_norm_EW': 318.23466513188424, 'max_norm_EW': 68.03781013985514, 'c_DRMF': 0.7579376420150183, 'frobenious_norm_DRMF': 491.74880722590717, 'max_norm_DRMF': 109.14447018275973, 'c_stable_PCP': 0.8515220161757026, 'frobenious_norm_stable_PCP': 619.5055707805692, 'max_norm_stable_PCP': 106.25519618929451, 'c_RMC': 0.8515220161757026, 'frobenious_norm_RMC': 619.5055707805692, 'max_norm_RMC': 106.25519618929451}\n"
     ]
    },
    {
     "name": "stderr",
     "output_type": "stream",
     "text": [
      " 91%|█████████ | 91/100 [33:05<05:35, 37.28s/it]"
     ]
    },
    {
     "name": "stdout",
     "output_type": "stream",
     "text": [
      "{'c_opt': 0.1764661787678468, 'c_EW': 0.18102327038530477, 'frobenious_norm_EW': 110.98597236129679, 'max_norm_EW': 9.292286062972494, 'c_DRMF': 0.3581077680386287, 'frobenious_norm_DRMF': 218.98178469937187, 'max_norm_DRMF': 26.22795536918904, 'c_stable_PCP': 0.6029840569464778, 'frobenious_norm_stable_PCP': 140.6614118843511, 'max_norm_stable_PCP': 10.720233829243758, 'c_RMC': 0.7768615781373605, 'frobenious_norm_RMC': 1374.6229421819066, 'max_norm_RMC': 204.61254159110973}\n"
     ]
    },
    {
     "name": "stderr",
     "output_type": "stream",
     "text": [
      " 92%|█████████▏| 92/100 [33:08<03:37, 27.15s/it]"
     ]
    },
    {
     "name": "stdout",
     "output_type": "stream",
     "text": [
      "{'c_opt': 0.798822999640128, 'c_EW': 0.8828452686163802, 'frobenious_norm_EW': 204.93454107794804, 'max_norm_EW': 19.57384599960223, 'c_DRMF': 1.5540607919753657, 'frobenious_norm_DRMF': 235.78991493282487, 'max_norm_DRMF': 28.1537153187994, 'c_stable_PCP': 1.4272961048754889, 'frobenious_norm_stable_PCP': 340.67447206124285, 'max_norm_stable_PCP': 35.22346828326269, 'c_RMC': 1.4272961048754889, 'frobenious_norm_RMC': 340.67447206124285, 'max_norm_RMC': 35.22346828326269}\n"
     ]
    },
    {
     "name": "stderr",
     "output_type": "stream",
     "text": [
      " 93%|█████████▎| 93/100 [33:48<03:35, 30.82s/it]"
     ]
    },
    {
     "name": "stdout",
     "output_type": "stream",
     "text": [
      "{'c_opt': 0.917660144922027, 'c_EW': 1.0260673077737634, 'frobenious_norm_EW': 181.6924275567855, 'max_norm_EW': 17.576804535665097, 'c_DRMF': 1.9380344165314938, 'frobenious_norm_DRMF': 346.4339441226396, 'max_norm_DRMF': 27.117791525445945, 'c_stable_PCP': 1.5469369028392115, 'frobenious_norm_stable_PCP': 241.0974578651512, 'max_norm_stable_PCP': 21.810324125976205, 'c_RMC': 1.654428546356729, 'frobenious_norm_RMC': 204.62539819960259, 'max_norm_RMC': 20.42342303800853}\n"
     ]
    },
    {
     "name": "stderr",
     "output_type": "stream",
     "text": [
      " 94%|█████████▍| 94/100 [33:52<02:16, 22.81s/it]"
     ]
    },
    {
     "name": "stdout",
     "output_type": "stream",
     "text": [
      "{'c_opt': 0.15976164856802563, 'c_EW': 0.2322439333509691, 'frobenious_norm_EW': 332.5157781494439, 'max_norm_EW': 36.49484307330025, 'c_DRMF': 1.953153836548483, 'frobenious_norm_DRMF': 681.4142964445209, 'max_norm_DRMF': 61.73790318032481, 'c_stable_PCP': 1.7550569801420488, 'frobenious_norm_stable_PCP': 588.9221335274578, 'max_norm_stable_PCP': 45.923513180154565, 'c_RMC': 1.7550569801420488, 'frobenious_norm_RMC': 588.9221335274578, 'max_norm_RMC': 45.923513180154565}\n"
     ]
    },
    {
     "name": "stderr",
     "output_type": "stream",
     "text": [
      " 95%|█████████▌| 95/100 [34:00<01:32, 18.52s/it]"
     ]
    },
    {
     "name": "stdout",
     "output_type": "stream",
     "text": [
      "{'c_opt': 0.7213821723234005, 'c_EW': 0.8328984662598968, 'frobenious_norm_EW': 261.03349373910817, 'max_norm_EW': 39.399900535322296, 'c_DRMF': 1.763648303986151, 'frobenious_norm_DRMF': 439.61226400032535, 'max_norm_DRMF': 46.87695294671782, 'c_stable_PCP': 1.4639709125726548, 'frobenious_norm_stable_PCP': 404.51396027769925, 'max_norm_stable_PCP': 48.55350462651957, 'c_RMC': 1.4639709125726548, 'frobenious_norm_RMC': 404.51396027769925, 'max_norm_RMC': 48.55350462651957}\n"
     ]
    },
    {
     "name": "stderr",
     "output_type": "stream",
     "text": [
      " 96%|█████████▌| 96/100 [34:02<00:54, 13.66s/it]"
     ]
    },
    {
     "name": "stdout",
     "output_type": "stream",
     "text": [
      "{'c_opt': 0.7637311066910913, 'c_EW': 0.9647177682719971, 'frobenious_norm_EW': 355.4416277604061, 'max_norm_EW': 133.36067434949626, 'c_DRMF': 1.5538131680290257, 'frobenious_norm_DRMF': 391.6207655487909, 'max_norm_DRMF': 209.80194627617686, 'c_stable_PCP': 1.4615602033735648, 'frobenious_norm_stable_PCP': 455.6807895991708, 'max_norm_stable_PCP': 101.67873969672269, 'c_RMC': 1.4615602033735648, 'frobenious_norm_RMC': 455.6807895991708, 'max_norm_RMC': 101.67873969672269}\n"
     ]
    },
    {
     "name": "stderr",
     "output_type": "stream",
     "text": [
      " 97%|█████████▋| 97/100 [34:08<00:33, 11.33s/it]"
     ]
    },
    {
     "name": "stdout",
     "output_type": "stream",
     "text": [
      "{'c_opt': 0.657183032844218, 'c_EW': 0.7635093116854399, 'frobenious_norm_EW': 231.48117311379394, 'max_norm_EW': 26.74320514500427, 'c_DRMF': 1.3297477392097716, 'frobenious_norm_DRMF': 304.17827190925556, 'max_norm_DRMF': 39.779653521809664, 'c_stable_PCP': 1.165007401149447, 'frobenious_norm_stable_PCP': 340.1292611970021, 'max_norm_stable_PCP': 45.478322113159, 'c_RMC': 1.165007401149447, 'frobenious_norm_RMC': 340.1292611970021, 'max_norm_RMC': 45.478322113159}\n"
     ]
    },
    {
     "name": "stderr",
     "output_type": "stream",
     "text": [
      " 98%|█████████▊| 98/100 [34:12<00:17,  8.90s/it]"
     ]
    },
    {
     "name": "stdout",
     "output_type": "stream",
     "text": [
      "{'c_opt': 0.3714767999137694, 'c_EW': 0.4080928546997741, 'frobenious_norm_EW': 195.4488248481748, 'max_norm_EW': 16.83388051688353, 'c_DRMF': 0.737203864697278, 'frobenious_norm_DRMF': 171.76563439018372, 'max_norm_DRMF': 31.290256095476416, 'c_stable_PCP': 0.8878403720714357, 'frobenious_norm_stable_PCP': 354.023381964948, 'max_norm_stable_PCP': 33.76551246730547, 'c_RMC': 0.8878403720714357, 'frobenious_norm_RMC': 354.023381964948, 'max_norm_RMC': 33.76551246730547}\n"
     ]
    },
    {
     "name": "stderr",
     "output_type": "stream",
     "text": [
      " 99%|█████████▉| 99/100 [34:25<00:10, 10.38s/it]"
     ]
    },
    {
     "name": "stdout",
     "output_type": "stream",
     "text": [
      "{'c_opt': 0.3492630354003682, 'c_EW': 0.40697695184695126, 'frobenious_norm_EW': 243.18070042488097, 'max_norm_EW': 47.238686462051504, 'c_DRMF': 0.999451412290935, 'frobenious_norm_DRMF': 435.8809822219323, 'max_norm_DRMF': 74.65767410592022, 'c_stable_PCP': 0.9912193646511115, 'frobenious_norm_stable_PCP': 419.23184583559123, 'max_norm_stable_PCP': 62.30605669270209, 'c_RMC': 0.9912193646511115, 'frobenious_norm_RMC': 419.23184583559123, 'max_norm_RMC': 62.30605669270209}\n"
     ]
    },
    {
     "name": "stderr",
     "output_type": "stream",
     "text": [
      "100%|██████████| 100/100 [34:28<00:00, 20.69s/it]"
     ]
    },
    {
     "name": "stdout",
     "output_type": "stream",
     "text": [
      "{'c_opt': 0.2059099524830689, 'c_EW': 0.21570087890579343, 'frobenious_norm_EW': 179.69259185012268, 'max_norm_EW': 37.859044686499715, 'c_DRMF': 0.42276038212452977, 'frobenious_norm_DRMF': 136.53936550144508, 'max_norm_DRMF': 24.020729393732665, 'c_stable_PCP': 0.6206242604304331, 'frobenious_norm_stable_PCP': 441.82225512379597, 'max_norm_stable_PCP': 101.41442270181936, 'c_RMC': 0.6206242604304331, 'frobenious_norm_RMC': 441.82225512379597, 'max_norm_RMC': 101.41442270181936}\n"
     ]
    },
    {
     "name": "stderr",
     "output_type": "stream",
     "text": [
      "\n"
     ]
    }
   ],
   "source": [
    "#%pdb\n",
    "reload(input)\n",
    "reload(algo)\n",
    "reload(utility)\n",
    "reload(anomaly)\n",
    "reload(robust_pca)\n",
    "\n",
    "def generate_data_for_table_cost(num_exper=200, r_range = [1, 10], mean_value_range = [1, 10], \n",
    "                                 p_o_range = [0.5, 1], p_a_range = [0, 0.3], alpha_range = [0, 1], metrics = None):\n",
    "\n",
    "    parameters = []\n",
    "    results = []\n",
    "    start = 0\n",
    "    n1 = 100\n",
    "    n2 = 100\n",
    "    for T in tqdm(range(start, num_exper)):\n",
    "        r = np.random.randint(r_range[0], high=r_range[1]+1)\n",
    "        mean_value = np.random.uniform(mean_value_range[0], mean_value_range[1])\n",
    "        p_o = np.random.uniform(p_o_range[0], p_o_range[1])\n",
    "        p_a = np.random.uniform(p_a_range[0], p_a_range[1])\n",
    "        alpha = np.random.uniform(alpha_range[0], alpha_range[1])\n",
    "\n",
    "        data = input.DataInput()\n",
    "        data.synthetic_data(n1=n1, n2=n2, r=r, mean_value = mean_value, prob_observing = p_o)\n",
    "        anomaly_model = anomaly.ExponentialAnomaly(p = p_a, exp_rate = 1/alpha, p_range = (0.01, 0.5), one_over_exp_range=(0.01, 0.9))\n",
    "        data.add_anomaly(anomaly_model)\n",
    "        data.cost_generation(c01 = [0, 10], c10 = [0, 10])\n",
    "        data.compute_posterior()\n",
    "\n",
    "        result_dict = {}\n",
    "        result_dict['c_opt'] = utility.ideal_cost(data)\n",
    "\n",
    "        result_dict.update(metrics(*algo.EW_algorithm(data, r_constraint = r, debug=False,  hard_impute_yes=False, gamma = data.n1/r*0.5), 'EW', data))\n",
    "\n",
    "        #print(c_opt[T], c_EW[T])\n",
    "        result_dict.update(metrics(*algo.DRMF(data, r, rate_anomalies=p_a), 'DRMF', data))\n",
    "        \n",
    "        result_dict.update(metrics(*robust_pca.Robust_PCA(data, r_constraint=r), 'stable_PCP', data))\n",
    "\n",
    "        result_dict.update(metrics(*robust_pca.Robust_PCA(data, r_constraint=r, up_M = np.max(data.M0)*10, up_A = np.max(data.M0)*10), 'RMC', data))\n",
    "\n",
    "        results.append(result_dict)\n",
    "        parameters.append((r, mean_value, p_o, p_a, alpha))\n",
    "\n",
    "        print(result_dict)\n",
    "\n",
    "    result_df = pd.DataFrame.from_records(results)\n",
    "    return result_df, parameters\n",
    "\n",
    "def metrics(M_est, anomaly_decision, algo_name, data):\n",
    "    results = {\n",
    "        f'c_{algo_name}': utility.cost_compute(data, anomaly_decision),\n",
    "        f'frobenious_norm_{algo_name}': utility.error_Frobenious(M_est, data.M0),\n",
    "        f'max_norm_{algo_name}': utility.error_max(M_est, data.M0)\n",
    "    }\n",
    "    return results\n",
    "\n",
    "results_df, parameters = generate_data_for_table_cost(num_exper=100, metrics = metrics)"
   ]
  },
  {
   "cell_type": "code",
   "execution_count": 31,
   "metadata": {},
   "outputs": [],
   "source": [
    "import pickle\n",
    "pickle.dump(results_df, open('results_100.pt', 'wb'))"
   ]
  },
  {
   "cell_type": "code",
   "execution_count": 32,
   "metadata": {},
   "outputs": [
    {
     "data": {
      "text/html": [
       "<div>\n",
       "<style scoped>\n",
       "    .dataframe tbody tr th:only-of-type {\n",
       "        vertical-align: middle;\n",
       "    }\n",
       "\n",
       "    .dataframe tbody tr th {\n",
       "        vertical-align: top;\n",
       "    }\n",
       "\n",
       "    .dataframe thead th {\n",
       "        text-align: right;\n",
       "    }\n",
       "</style>\n",
       "<table border=\"1\" class=\"dataframe\">\n",
       "  <thead>\n",
       "    <tr style=\"text-align: right;\">\n",
       "      <th></th>\n",
       "      <th>c_opt</th>\n",
       "      <th>c_EW</th>\n",
       "      <th>frobenious_norm_EW</th>\n",
       "      <th>max_norm_EW</th>\n",
       "      <th>c_DRMF</th>\n",
       "      <th>frobenious_norm_DRMF</th>\n",
       "      <th>max_norm_DRMF</th>\n",
       "      <th>c_stable_PCP</th>\n",
       "      <th>frobenious_norm_stable_PCP</th>\n",
       "      <th>max_norm_stable_PCP</th>\n",
       "      <th>c_RMC</th>\n",
       "      <th>frobenious_norm_RMC</th>\n",
       "      <th>max_norm_RMC</th>\n",
       "      <th>regret_EW</th>\n",
       "      <th>regret_DRMF</th>\n",
       "      <th>regret_stable_PCP</th>\n",
       "      <th>regret_RMC</th>\n",
       "    </tr>\n",
       "  </thead>\n",
       "  <tbody>\n",
       "    <tr>\n",
       "      <th>count</th>\n",
       "      <td>100.000000</td>\n",
       "      <td>100.000000</td>\n",
       "      <td>100.000000</td>\n",
       "      <td>100.000000</td>\n",
       "      <td>100.000000</td>\n",
       "      <td>100.000000</td>\n",
       "      <td>100.000000</td>\n",
       "      <td>100.000000</td>\n",
       "      <td>100.000000</td>\n",
       "      <td>100.000000</td>\n",
       "      <td>100.000000</td>\n",
       "      <td>100.000000</td>\n",
       "      <td>100.000000</td>\n",
       "      <td>100.000000</td>\n",
       "      <td>100.000000</td>\n",
       "      <td>100.000000</td>\n",
       "      <td>100.000000</td>\n",
       "    </tr>\n",
       "    <tr>\n",
       "      <th>mean</th>\n",
       "      <td>0.472944</td>\n",
       "      <td>0.520367</td>\n",
       "      <td>169.086737</td>\n",
       "      <td>22.015347</td>\n",
       "      <td>1.151612</td>\n",
       "      <td>250.846385</td>\n",
       "      <td>37.989029</td>\n",
       "      <td>1.188936</td>\n",
       "      <td>295.644711</td>\n",
       "      <td>39.953609</td>\n",
       "      <td>1.290406</td>\n",
       "      <td>476.183149</td>\n",
       "      <td>62.025726</td>\n",
       "      <td>0.047423</td>\n",
       "      <td>0.678669</td>\n",
       "      <td>0.715993</td>\n",
       "      <td>0.817462</td>\n",
       "    </tr>\n",
       "    <tr>\n",
       "      <th>std</th>\n",
       "      <td>0.258923</td>\n",
       "      <td>0.282123</td>\n",
       "      <td>80.579259</td>\n",
       "      <td>18.124841</td>\n",
       "      <td>0.578816</td>\n",
       "      <td>138.678758</td>\n",
       "      <td>31.197510</td>\n",
       "      <td>0.433227</td>\n",
       "      <td>160.026454</td>\n",
       "      <td>37.908736</td>\n",
       "      <td>0.526485</td>\n",
       "      <td>523.295036</td>\n",
       "      <td>68.842760</td>\n",
       "      <td>0.042604</td>\n",
       "      <td>0.408918</td>\n",
       "      <td>0.318376</td>\n",
       "      <td>0.418779</td>\n",
       "    </tr>\n",
       "    <tr>\n",
       "      <th>min</th>\n",
       "      <td>0.025848</td>\n",
       "      <td>0.026298</td>\n",
       "      <td>45.879496</td>\n",
       "      <td>5.166520</td>\n",
       "      <td>0.051492</td>\n",
       "      <td>55.398899</td>\n",
       "      <td>6.660600</td>\n",
       "      <td>0.436338</td>\n",
       "      <td>60.991472</td>\n",
       "      <td>6.157065</td>\n",
       "      <td>0.436338</td>\n",
       "      <td>62.322495</td>\n",
       "      <td>5.803469</td>\n",
       "      <td>0.000208</td>\n",
       "      <td>0.025644</td>\n",
       "      <td>0.200261</td>\n",
       "      <td>0.200261</td>\n",
       "    </tr>\n",
       "    <tr>\n",
       "      <th>25%</th>\n",
       "      <td>0.274144</td>\n",
       "      <td>0.303739</td>\n",
       "      <td>102.977954</td>\n",
       "      <td>11.293663</td>\n",
       "      <td>0.747020</td>\n",
       "      <td>132.901145</td>\n",
       "      <td>15.828055</td>\n",
       "      <td>0.882782</td>\n",
       "      <td>168.664036</td>\n",
       "      <td>15.969721</td>\n",
       "      <td>0.884777</td>\n",
       "      <td>185.939840</td>\n",
       "      <td>18.986509</td>\n",
       "      <td>0.016090</td>\n",
       "      <td>0.376416</td>\n",
       "      <td>0.506590</td>\n",
       "      <td>0.511706</td>\n",
       "    </tr>\n",
       "    <tr>\n",
       "      <th>50%</th>\n",
       "      <td>0.469201</td>\n",
       "      <td>0.517940</td>\n",
       "      <td>157.584877</td>\n",
       "      <td>15.832826</td>\n",
       "      <td>1.214420</td>\n",
       "      <td>217.928327</td>\n",
       "      <td>31.492340</td>\n",
       "      <td>1.212580</td>\n",
       "      <td>292.856441</td>\n",
       "      <td>29.227633</td>\n",
       "      <td>1.272567</td>\n",
       "      <td>352.864558</td>\n",
       "      <td>36.648197</td>\n",
       "      <td>0.034290</td>\n",
       "      <td>0.656938</td>\n",
       "      <td>0.636147</td>\n",
       "      <td>0.701693</td>\n",
       "    </tr>\n",
       "    <tr>\n",
       "      <th>75%</th>\n",
       "      <td>0.662538</td>\n",
       "      <td>0.723988</td>\n",
       "      <td>234.437491</td>\n",
       "      <td>29.344131</td>\n",
       "      <td>1.553875</td>\n",
       "      <td>354.743594</td>\n",
       "      <td>47.119102</td>\n",
       "      <td>1.467493</td>\n",
       "      <td>395.262538</td>\n",
       "      <td>49.950501</td>\n",
       "      <td>1.649915</td>\n",
       "      <td>443.004254</td>\n",
       "      <td>78.019586</td>\n",
       "      <td>0.064086</td>\n",
       "      <td>0.843763</td>\n",
       "      <td>0.891672</td>\n",
       "      <td>1.097260</td>\n",
       "    </tr>\n",
       "    <tr>\n",
       "      <th>max</th>\n",
       "      <td>1.097913</td>\n",
       "      <td>1.109913</td>\n",
       "      <td>355.441628</td>\n",
       "      <td>133.360674</td>\n",
       "      <td>2.421523</td>\n",
       "      <td>681.414296</td>\n",
       "      <td>209.801946</td>\n",
       "      <td>2.216998</td>\n",
       "      <td>819.901724</td>\n",
       "      <td>278.275834</td>\n",
       "      <td>2.640284</td>\n",
       "      <td>3235.536257</td>\n",
       "      <td>363.439038</td>\n",
       "      <td>0.200987</td>\n",
       "      <td>1.793392</td>\n",
       "      <td>1.752383</td>\n",
       "      <td>1.972574</td>\n",
       "    </tr>\n",
       "  </tbody>\n",
       "</table>\n",
       "</div>"
      ],
      "text/plain": [
       "            c_opt        c_EW  frobenious_norm_EW  max_norm_EW      c_DRMF  \\\n",
       "count  100.000000  100.000000          100.000000   100.000000  100.000000   \n",
       "mean     0.472944    0.520367          169.086737    22.015347    1.151612   \n",
       "std      0.258923    0.282123           80.579259    18.124841    0.578816   \n",
       "min      0.025848    0.026298           45.879496     5.166520    0.051492   \n",
       "25%      0.274144    0.303739          102.977954    11.293663    0.747020   \n",
       "50%      0.469201    0.517940          157.584877    15.832826    1.214420   \n",
       "75%      0.662538    0.723988          234.437491    29.344131    1.553875   \n",
       "max      1.097913    1.109913          355.441628   133.360674    2.421523   \n",
       "\n",
       "       frobenious_norm_DRMF  max_norm_DRMF  c_stable_PCP  \\\n",
       "count            100.000000     100.000000    100.000000   \n",
       "mean             250.846385      37.989029      1.188936   \n",
       "std              138.678758      31.197510      0.433227   \n",
       "min               55.398899       6.660600      0.436338   \n",
       "25%              132.901145      15.828055      0.882782   \n",
       "50%              217.928327      31.492340      1.212580   \n",
       "75%              354.743594      47.119102      1.467493   \n",
       "max              681.414296     209.801946      2.216998   \n",
       "\n",
       "       frobenious_norm_stable_PCP  max_norm_stable_PCP       c_RMC  \\\n",
       "count                  100.000000           100.000000  100.000000   \n",
       "mean                   295.644711            39.953609    1.290406   \n",
       "std                    160.026454            37.908736    0.526485   \n",
       "min                     60.991472             6.157065    0.436338   \n",
       "25%                    168.664036            15.969721    0.884777   \n",
       "50%                    292.856441            29.227633    1.272567   \n",
       "75%                    395.262538            49.950501    1.649915   \n",
       "max                    819.901724           278.275834    2.640284   \n",
       "\n",
       "       frobenious_norm_RMC  max_norm_RMC   regret_EW  regret_DRMF  \\\n",
       "count           100.000000    100.000000  100.000000   100.000000   \n",
       "mean            476.183149     62.025726    0.047423     0.678669   \n",
       "std             523.295036     68.842760    0.042604     0.408918   \n",
       "min              62.322495      5.803469    0.000208     0.025644   \n",
       "25%             185.939840     18.986509    0.016090     0.376416   \n",
       "50%             352.864558     36.648197    0.034290     0.656938   \n",
       "75%             443.004254     78.019586    0.064086     0.843763   \n",
       "max            3235.536257    363.439038    0.200987     1.793392   \n",
       "\n",
       "       regret_stable_PCP  regret_RMC  \n",
       "count         100.000000  100.000000  \n",
       "mean            0.715993    0.817462  \n",
       "std             0.318376    0.418779  \n",
       "min             0.200261    0.200261  \n",
       "25%             0.506590    0.511706  \n",
       "50%             0.636147    0.701693  \n",
       "75%             0.891672    1.097260  \n",
       "max             1.752383    1.972574  "
      ]
     },
     "execution_count": 32,
     "metadata": {},
     "output_type": "execute_result"
    }
   ],
   "source": [
    "results_df['regret_EW'] = results_df['c_EW'] - results_df['c_opt'] \n",
    "results_df['regret_DRMF'] = results_df['c_DRMF'] - results_df['c_opt']\n",
    "results_df['regret_stable_PCP'] = results_df['c_stable_PCP'] - results_df['c_opt']\n",
    "results_df['regret_RMC'] = results_df['c_RMC'] - results_df['c_opt']\n",
    "results_df.describe()"
   ]
  },
  {
   "cell_type": "code",
   "execution_count": 14,
   "metadata": {},
   "outputs": [
    {
     "data": {
      "text/html": [
       "<div>\n",
       "<style scoped>\n",
       "    .dataframe tbody tr th:only-of-type {\n",
       "        vertical-align: middle;\n",
       "    }\n",
       "\n",
       "    .dataframe tbody tr th {\n",
       "        vertical-align: top;\n",
       "    }\n",
       "\n",
       "    .dataframe thead th {\n",
       "        text-align: right;\n",
       "    }\n",
       "</style>\n",
       "<table border=\"1\" class=\"dataframe\">\n",
       "  <thead>\n",
       "    <tr style=\"text-align: right;\">\n",
       "      <th></th>\n",
       "      <th>c_opt</th>\n",
       "      <th>c_EW</th>\n",
       "      <th>frobenious_norm_EW</th>\n",
       "      <th>max_norm_EW</th>\n",
       "      <th>c_DRMF</th>\n",
       "      <th>frobenious_norm_DRMF</th>\n",
       "      <th>max_norm_DRMF</th>\n",
       "    </tr>\n",
       "  </thead>\n",
       "  <tbody>\n",
       "    <tr>\n",
       "      <th>count</th>\n",
       "      <td>100.000000</td>\n",
       "      <td>100.000000</td>\n",
       "      <td>100.000000</td>\n",
       "      <td>100.000000</td>\n",
       "      <td>100.000000</td>\n",
       "      <td>100.000000</td>\n",
       "      <td>100.000000</td>\n",
       "    </tr>\n",
       "    <tr>\n",
       "      <th>mean</th>\n",
       "      <td>0.044665</td>\n",
       "      <td>0.049197</td>\n",
       "      <td>167.778164</td>\n",
       "      <td>21.247280</td>\n",
       "      <td>0.103951</td>\n",
       "      <td>245.886330</td>\n",
       "      <td>36.871622</td>\n",
       "    </tr>\n",
       "    <tr>\n",
       "      <th>std</th>\n",
       "      <td>0.027357</td>\n",
       "      <td>0.029902</td>\n",
       "      <td>79.847026</td>\n",
       "      <td>15.616014</td>\n",
       "      <td>0.060057</td>\n",
       "      <td>149.562734</td>\n",
       "      <td>29.738591</td>\n",
       "    </tr>\n",
       "    <tr>\n",
       "      <th>min</th>\n",
       "      <td>0.000963</td>\n",
       "      <td>0.000999</td>\n",
       "      <td>40.013573</td>\n",
       "      <td>3.846638</td>\n",
       "      <td>0.001985</td>\n",
       "      <td>52.460070</td>\n",
       "      <td>4.658152</td>\n",
       "    </tr>\n",
       "    <tr>\n",
       "      <th>25%</th>\n",
       "      <td>0.020920</td>\n",
       "      <td>0.022147</td>\n",
       "      <td>102.601671</td>\n",
       "      <td>11.415754</td>\n",
       "      <td>0.053323</td>\n",
       "      <td>127.222262</td>\n",
       "      <td>15.691043</td>\n",
       "    </tr>\n",
       "    <tr>\n",
       "      <th>50%</th>\n",
       "      <td>0.041009</td>\n",
       "      <td>0.046024</td>\n",
       "      <td>159.863287</td>\n",
       "      <td>16.626845</td>\n",
       "      <td>0.106401</td>\n",
       "      <td>205.300977</td>\n",
       "      <td>28.414506</td>\n",
       "    </tr>\n",
       "    <tr>\n",
       "      <th>75%</th>\n",
       "      <td>0.066356</td>\n",
       "      <td>0.070829</td>\n",
       "      <td>223.309126</td>\n",
       "      <td>26.162798</td>\n",
       "      <td>0.149411</td>\n",
       "      <td>336.645419</td>\n",
       "      <td>47.231336</td>\n",
       "    </tr>\n",
       "    <tr>\n",
       "      <th>max</th>\n",
       "      <td>0.107216</td>\n",
       "      <td>0.108850</td>\n",
       "      <td>431.552288</td>\n",
       "      <td>89.471546</td>\n",
       "      <td>0.218188</td>\n",
       "      <td>720.549030</td>\n",
       "      <td>163.918221</td>\n",
       "    </tr>\n",
       "  </tbody>\n",
       "</table>\n",
       "</div>"
      ],
      "text/plain": [
       "            c_opt        c_EW  frobenious_norm_EW  max_norm_EW      c_DRMF  \\\n",
       "count  100.000000  100.000000          100.000000   100.000000  100.000000   \n",
       "mean     0.044665    0.049197          167.778164    21.247280    0.103951   \n",
       "std      0.027357    0.029902           79.847026    15.616014    0.060057   \n",
       "min      0.000963    0.000999           40.013573     3.846638    0.001985   \n",
       "25%      0.020920    0.022147          102.601671    11.415754    0.053323   \n",
       "50%      0.041009    0.046024          159.863287    16.626845    0.106401   \n",
       "75%      0.066356    0.070829          223.309126    26.162798    0.149411   \n",
       "max      0.107216    0.108850          431.552288    89.471546    0.218188   \n",
       "\n",
       "       frobenious_norm_DRMF  max_norm_DRMF  \n",
       "count            100.000000     100.000000  \n",
       "mean             245.886330      36.871622  \n",
       "std              149.562734      29.738591  \n",
       "min               52.460070       4.658152  \n",
       "25%              127.222262      15.691043  \n",
       "50%              205.300977      28.414506  \n",
       "75%              336.645419      47.231336  \n",
       "max              720.549030     163.918221  "
      ]
     },
     "execution_count": 14,
     "metadata": {},
     "output_type": "execute_result"
    }
   ],
   "source": [
    "results_df.describe()"
   ]
  },
  {
   "cell_type": "code",
   "execution_count": null,
   "metadata": {},
   "outputs": [],
   "source": []
  }
 ],
 "metadata": {
  "kernelspec": {
   "display_name": "Python 3",
   "language": "python",
   "name": "python3"
  },
  "language_info": {
   "codemirror_mode": {
    "name": "ipython",
    "version": 3
   },
   "file_extension": ".py",
   "mimetype": "text/x-python",
   "name": "python",
   "nbconvert_exporter": "python",
   "pygments_lexer": "ipython3",
   "version": "3.10.9"
  }
 },
 "nbformat": 4,
 "nbformat_minor": 2
}
